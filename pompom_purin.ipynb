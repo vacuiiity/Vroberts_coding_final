{
  "nbformat": 4,
  "nbformat_minor": 0,
  "metadata": {
    "colab": {
      "provenance": [],
      "authorship_tag": "ABX9TyNC/XSREtQx2H6nPuGQMyLz",
      "include_colab_link": true
    },
    "kernelspec": {
      "name": "python3",
      "display_name": "Python 3"
    },
    "language_info": {
      "name": "python"
    }
  },
  "cells": [
    {
      "cell_type": "markdown",
      "metadata": {
        "id": "view-in-github",
        "colab_type": "text"
      },
      "source": [
        "<a href=\"https://colab.research.google.com/github/vacuiiity/Vroberts_coding_final/blob/main/pompom_purin.ipynb\" target=\"_parent\"><img src=\"https://colab.research.google.com/assets/colab-badge.svg\" alt=\"Open In Colab\"/></a>"
      ]
    },
    {
      "cell_type": "code",
      "execution_count": null,
      "metadata": {
        "colab": {
          "base_uri": "https://localhost:8080/"
        },
        "id": "H2gcs-PRDSCe",
        "outputId": "27a65220-c255-44dc-8130-fbb85da3888a"
      },
      "outputs": [
        {
          "output_type": "stream",
          "name": "stdout",
          "text": [
            "Looking in indexes: https://pypi.org/simple, https://us-python.pkg.dev/colab-wheels/public/simple/\n",
            "Collecting ColabTurtlePlus\n",
            "  Downloading ColabTurtlePlus-2.0.1-py3-none-any.whl (31 kB)\n",
            "Installing collected packages: ColabTurtlePlus\n",
            "Successfully installed ColabTurtlePlus-2.0.1\n"
          ]
        }
      ],
      "source": [
        "!pip install ColabTurtlePlus"
      ]
    },
    {
      "cell_type": "code",
      "source": [
        "from ColabTurtlePlus.Turtle import *\n",
        "clearscreen()\n",
        "setup(800,800)\n",
        "bgcolor(250,150,150)\n",
        "black = Turtle()\n",
        "black.color((0,0,0))\n",
        "yellow = Turtle()\n",
        "yellow.color((255,255,100))\n",
        "brown = Turtle()\n",
        "brown.color((140,70,40))\n",
        "face = Turtle()\n",
        "face.color((0,0,0))"
      ],
      "metadata": {
        "id": "lMrillPODNdD",
        "colab": {
          "base_uri": "https://localhost:8080/",
          "height": 841
        },
        "outputId": "baab46da-d7e2-40ac-e447-32750ffc278f"
      },
      "execution_count": null,
      "outputs": [
        {
          "output_type": "display_data",
          "data": {
            "text/plain": [
              "<IPython.core.display.HTML object>"
            ],
            "text/html": [
              "\n",
              "      <svg width=\"800\" height=\"800\">  \n",
              "        <rect width=\"100%\" height=\"100%\" style=\"fill:rgb(250,150,150);stroke:;stroke-width:1\"/>\n",
              "        \n",
              "        \n",
              "        \n",
              "        \n",
              "        \n",
              "        <g id=\"classic\" visibility=\"visible\" transform=\"rotate(-90,400.0,400.0) translate(400.0, 400.0)\">\n",
              "<polygon points=\"-5,-4.5 0,-2.5 5,-4.5 0,4.5\" transform=\"skewX(0) scale(1,1)\" style=\"stroke:rgb(0,0,0);fill:rgb(0,0,0);stroke-width:1\" />\n",
              "</g><g id=\"classic\" visibility=\"visible\" transform=\"rotate(-90,400.0,400.0) translate(400.0, 400.0)\">\n",
              "<polygon points=\"-5,-4.5 0,-2.5 5,-4.5 0,4.5\" transform=\"skewX(0) scale(1,1)\" style=\"stroke:rgb(255,255,100);fill:rgb(255,255,100);stroke-width:1\" />\n",
              "</g><g id=\"classic\" visibility=\"visible\" transform=\"rotate(-90,400.0,400.0) translate(400.0, 400.0)\">\n",
              "<polygon points=\"-5,-4.5 0,-2.5 5,-4.5 0,4.5\" transform=\"skewX(0) scale(1,1)\" style=\"stroke:rgb(140,70,40);fill:rgb(140,70,40);stroke-width:1\" />\n",
              "</g><g id=\"classic\" visibility=\"visible\" transform=\"rotate(-90,400.0,400.0) translate(400.0, 400.0)\">\n",
              "<polygon points=\"-5,-4.5 0,-2.5 5,-4.5 0,4.5\" transform=\"skewX(0) scale(1,1)\" style=\"stroke:rgb(0,0,0);fill:rgb(0,0,0);stroke-width:1\" />\n",
              "</g>\n",
              "      </svg>\n",
              "    "
            ]
          },
          "metadata": {}
        }
      ]
    },
    {
      "cell_type": "code",
      "source": [
        "def draw_square(turtle_obj, side_length):\n",
        "  for i in range(4):\n",
        "    turtle_obj.forward(side_length)\n",
        "    turtle_obj.left(90)"
      ],
      "metadata": {
        "id": "u42-yzfRDQHC"
      },
      "execution_count": null,
      "outputs": []
    },
    {
      "cell_type": "code",
      "source": [
        "def draw_rectangle(turtle_obj, side_length1, side_length2):\n",
        "  for i in range(2):\n",
        "    turtle_obj.forward(side_length1)\n",
        "    turtle_obj.right(90)\n",
        "    turtle_obj.forward(side_length2)\n",
        "    turtle_obj.right(90)"
      ],
      "metadata": {
        "id": "hx-KBKljDZ4l"
      },
      "execution_count": null,
      "outputs": []
    },
    {
      "cell_type": "code",
      "source": [
        "black_telem_list = []\n",
        "yellow_telem_list = []\n",
        "brown_telem_list = []\n",
        "face_telem_list = []\n",
        "\n",
        "black.jumpto(-220,170)\n",
        "black_telem_list.append((black.xcor(), black.ycor()))\n",
        "black.begin_fill()\n",
        "draw_rectangle(black,440,390)\n",
        "black_telem_list.append((black.xcor(), black.ycor()))\n",
        "black.end_fill()\n",
        "\n",
        "black.jumpto(-340,170)\n",
        "black_telem_list.append((black.xcor(), black.ycor()))\n",
        "black.begin_fill()\n",
        "draw_rectangle(black,160,450)\n",
        "black_telem_list.append((black.xcor(), black.ycor()))\n",
        "black.end_fill()\n",
        "\n",
        "black.jumpto(180,170)\n",
        "black_telem_list.append((black.xcor(), black.ycor()))\n",
        "black.begin_fill()\n",
        "draw_rectangle(black,160,450)\n",
        "black_telem_list.append((black.xcor(), black.ycor()))\n",
        "black.end_fill()\n",
        "\n",
        "black.jumpto(-90,240)\n",
        "black_telem_list.append((black.xcor(), black.ycor()))\n",
        "black.begin_fill()\n",
        "draw_rectangle(black,200,150)\n",
        "black_telem_list.append((black.xcor(), black.ycor()))\n",
        "black.end_fill()\n",
        "\n",
        "black.jumpto(-10,220)\n",
        "black_telem_list.append((black.xcor(), black.ycor()))\n",
        "black.begin_fill()\n",
        "draw_square(black,50)\n",
        "black_telem_list.append((black.xcor(), black.ycor()))\n",
        "black.end_fill()\n",
        "\n",
        "yellow.jumpto(-200,150)\n",
        "yellow_telem_list.append((yellow.xcor(), yellow.ycor()))\n",
        "yellow.begin_fill()\n",
        "draw_rectangle(yellow,400,350)\n",
        "yellow_telem_list.append((yellow.xcor(), yellow.ycor()))\n",
        "yellow.end_fill()\n",
        "\n",
        "yellow.jumpto(200,150)\n",
        "yellow_telem_list.append((yellow.xcor(), yellow.ycor()))\n",
        "yellow.begin_fill()\n",
        "draw_rectangle(yellow,120,400)\n",
        "yellow_telem_list.append((yellow.xcor(), yellow.ycor()))\n",
        "yellow.end_fill()\n",
        "\n",
        "yellow.jumpto(-320,150)\n",
        "yellow_telem_list.append((yellow.xcor(), yellow.ycor()))\n",
        "yellow.begin_fill()\n",
        "draw_rectangle(yellow,120,400)\n",
        "yellow_telem_list.append((yellow.xcor(), yellow.ycor()))\n",
        "yellow.end_fill()\n",
        "\n",
        "brown.jumpto(-70,220)\n",
        "brown_telem_list.append((brown.xcor(), brown.ycor()))\n",
        "brown.begin_fill()\n",
        "draw_rectangle(brown,160,80)\n",
        "brown_telem_list.append((brown.xcor(), brown.ycor()))\n",
        "brown.end_fill()\n",
        "\n",
        "brown.jumpto(0,240)\n",
        "brown_telem_list.append((brown.xcor(), brown.ycor()))\n",
        "brown.begin_fill()\n",
        "draw_square(brown,20)\n",
        "brown_telem_list.append((brown.xcor(), brown.ycor()))\n",
        "brown.end_fill()\n",
        "\n",
        "face.jumpto(-120,0)\n",
        "face_telem_list.append((face.xcor(), face.ycor()))\n",
        "face.begin_fill()\n",
        "draw_square(face,20)\n",
        "face_telem_list.append((face.xcor(), face.ycor()))\n",
        "face.end_fill()\n",
        "\n",
        "face.jumpto(100,0)\n",
        "face_telem_list.append((face.xcor(), face.ycor()))\n",
        "face.begin_fill()\n",
        "draw_square(face,20)\n",
        "face_telem_list.append((face.xcor(), face.ycor()))\n",
        "face.end_fill()\n",
        "\n",
        "face.jumpto(180,-20)\n",
        "face_telem_list.append((face.xcor(), face.ycor()))\n",
        "face.begin_fill()\n",
        "draw_rectangle(face,20,180)\n",
        "face_telem_list.append((face.xcor(), face.ycor()))\n",
        "face.end_fill()\n",
        "\n",
        "face.jumpto(-200,-20)\n",
        "face_telem_list.append((face.xcor(), face.ycor()))\n",
        "face.begin_fill()\n",
        "draw_rectangle(face,20,180)\n",
        "face_telem_list.append((face.xcor(), face.ycor()))\n",
        "face.end_fill()\n",
        "\n",
        "face.jumpto(-90,160)\n",
        "face_telem_list.append((face.xcor(), face.ycor()))\n",
        "face.begin_fill()\n",
        "draw_rectangle(face,200,20)\n",
        "face_telem_list.append((face.xcor(), face.ycor()))\n",
        "face.end_fill()\n",
        "\n",
        "face.jumpto(-20,-20)\n",
        "face_telem_list.append((face.xcor(), face.ycor()))\n",
        "face.begin_fill()\n",
        "draw_rectangle(face,60,20)\n",
        "face_telem_list.append((face.xcor(), face.ycor()))\n",
        "face.end_fill()\n",
        "\n",
        "face.jumpto(0,-20)\n",
        "face_telem_list.append((face.xcor(), face.ycor()))\n",
        "face.begin_fill()\n",
        "draw_rectangle(face,20,60)\n",
        "face_telem_list.append((face.xcor(), face.ycor()))\n",
        "face.end_fill()\n",
        "\n",
        "\n",
        "face.jumpto(20,-60)\n",
        "face_telem_list.append((face.xcor(), face.ycor()))\n",
        "face.begin_fill()\n",
        "draw_rectangle(face,40,20)\n",
        "face_telem_list.append((face.xcor(), face.ycor()))\n",
        "face.end_fill()\n",
        "\n",
        "face.jumpto(-40,-60)\n",
        "face_telem_list.append((face.xcor(), face.ycor()))\n",
        "face.begin_fill()\n",
        "draw_rectangle(face,40,20)\n",
        "face_telem_list.append((face.xcor(), face.ycor()))\n",
        "face.end_fill()\n"
      ],
      "metadata": {
        "colab": {
          "base_uri": "https://localhost:8080/",
          "height": 841
        },
        "id": "_In05GpuK47y",
        "outputId": "33a5d52e-61ea-4009-8344-6935308a5369"
      },
      "execution_count": null,
      "outputs": [
        {
          "output_type": "display_data",
          "data": {
            "text/plain": [
              "<IPython.core.display.HTML object>"
            ],
            "text/html": [
              "\n",
              "      <svg width=\"800\" height=\"800\">  \n",
              "        <rect width=\"100%\" height=\"100%\" style=\"fill:rgb(250,150,150);stroke:;stroke-width:1\"/>\n",
              "        \n",
              "        \n",
              "        <path fill-rule=\"evenodd\" fill-opacity=\"1\" d=\"M 180.0 230.0  L 620.0 230.0  L 620.0 620.0  L 180.0 620.0  L 180.0 230.0 \" stroke-linecap=\"round\" style=\"stroke:rgb(0,0,0);stroke-width:1\" fill=\"rgb(0,0,0)\" /><path fill-rule=\"evenodd\" fill-opacity=\"1\" d=\"M 60.0 230.0  L 220.0 230.0  L 220.0 680.0  L 60.0 680.0  L 60.0 230.0 \" stroke-linecap=\"round\" style=\"stroke:rgb(0,0,0);stroke-width:1\" fill=\"rgb(0,0,0)\" /><path fill-rule=\"evenodd\" fill-opacity=\"1\" d=\"M 580.0 230.0  L 740.0 230.0  L 740.0 680.0  L 580.0 680.0  L 580.0 230.0 \" stroke-linecap=\"round\" style=\"stroke:rgb(0,0,0);stroke-width:1\" fill=\"rgb(0,0,0)\" /><path fill-rule=\"evenodd\" fill-opacity=\"1\" d=\"M 310.0 160.0  L 510.0 160.0  L 510.0 310.0  L 310.0 310.0  L 310.0 160.0 \" stroke-linecap=\"round\" style=\"stroke:rgb(0,0,0);stroke-width:1\" fill=\"rgb(0,0,0)\" /><path fill-rule=\"evenodd\" fill-opacity=\"1\" d=\"M 390.0 180.0  L 440.0 180.0  L 440.0 130.0  L 390.0 130.0  L 390.0 180.0 \" stroke-linecap=\"round\" style=\"stroke:rgb(0,0,0);stroke-width:1\" fill=\"rgb(0,0,0)\" /><path fill-rule=\"evenodd\" fill-opacity=\"1\" d=\"M 200.0 250.0  L 600.0 250.0  L 600.0 600.0  L 200.0 600.0  L 200.0 250.0 \" stroke-linecap=\"round\" style=\"stroke:rgb(255,255,100);stroke-width:1\" fill=\"rgb(255,255,100)\" /><path fill-rule=\"evenodd\" fill-opacity=\"1\" d=\"M 600.0 250.0  L 720.0 250.0  L 720.0 650.0  L 600.0 650.0  L 600.0 250.0 \" stroke-linecap=\"round\" style=\"stroke:rgb(255,255,100);stroke-width:1\" fill=\"rgb(255,255,100)\" /><path fill-rule=\"evenodd\" fill-opacity=\"1\" d=\"M 80.0 250.0  L 200.0 250.0  L 200.0 650.0  L 80.0 650.0  L 80.0 250.0 \" stroke-linecap=\"round\" style=\"stroke:rgb(255,255,100);stroke-width:1\" fill=\"rgb(255,255,100)\" /><path fill-rule=\"evenodd\" fill-opacity=\"1\" d=\"M 330.0 180.0  L 490.0 180.0  L 490.0 260.0  L 330.0 260.0  L 330.0 180.0 \" stroke-linecap=\"round\" style=\"stroke:rgb(140,70,40);stroke-width:1\" fill=\"rgb(140,70,40)\" /><path fill-rule=\"evenodd\" fill-opacity=\"1\" d=\"M 400.0 160.0  L 420.0 160.0  L 420.0 140.0  L 400.0 140.0  L 400.0 160.0 \" stroke-linecap=\"round\" style=\"stroke:rgb(140,70,40);stroke-width:1\" fill=\"rgb(140,70,40)\" /><path fill-rule=\"evenodd\" fill-opacity=\"1\" d=\"M 280.0 400.0  L 300.0 400.0  L 300.0 380.0  L 280.0 380.0  L 280.0 400.0 \" stroke-linecap=\"round\" style=\"stroke:rgb(0,0,0);stroke-width:1\" fill=\"rgb(0,0,0)\" /><path fill-rule=\"evenodd\" fill-opacity=\"1\" d=\"M 500.0 400.0  L 520.0 400.0  L 520.0 380.0  L 500.0 380.0  L 500.0 400.0 \" stroke-linecap=\"round\" style=\"stroke:rgb(0,0,0);stroke-width:1\" fill=\"rgb(0,0,0)\" /><path fill-rule=\"evenodd\" fill-opacity=\"1\" d=\"M 580.0 420.0  L 600.0 420.0  L 600.0 600.0  L 580.0 600.0  L 580.0 420.0 \" stroke-linecap=\"round\" style=\"stroke:rgb(0,0,0);stroke-width:1\" fill=\"rgb(0,0,0)\" /><path fill-rule=\"evenodd\" fill-opacity=\"1\" d=\"M 200.0 420.0  L 220.0 420.0  L 220.0 600.0  L 200.0 600.0  L 200.0 420.0 \" stroke-linecap=\"round\" style=\"stroke:rgb(0,0,0);stroke-width:1\" fill=\"rgb(0,0,0)\" /><path fill-rule=\"evenodd\" fill-opacity=\"1\" d=\"M 310.0 240.0  L 510.0 240.0  L 510.0 260.0  L 310.0 260.0  L 310.0 240.0 \" stroke-linecap=\"round\" style=\"stroke:rgb(0,0,0);stroke-width:1\" fill=\"rgb(0,0,0)\" /><path fill-rule=\"evenodd\" fill-opacity=\"1\" d=\"M 380.0 420.0  L 440.0 420.0  L 440.0 440.0  L 380.0 440.0  L 380.0 420.0 \" stroke-linecap=\"round\" style=\"stroke:rgb(0,0,0);stroke-width:1\" fill=\"rgb(0,0,0)\" /><path fill-rule=\"evenodd\" fill-opacity=\"1\" d=\"M 400.0 420.0  L 420.0 420.0  L 420.0 480.0  L 400.0 480.0  L 400.0 420.0 \" stroke-linecap=\"round\" style=\"stroke:rgb(0,0,0);stroke-width:1\" fill=\"rgb(0,0,0)\" /><path fill-rule=\"evenodd\" fill-opacity=\"1\" d=\"M 420.0 460.0  L 460.0 460.0  L 460.0 480.0  L 420.0 480.0  L 420.0 460.0 \" stroke-linecap=\"round\" style=\"stroke:rgb(0,0,0);stroke-width:1\" fill=\"rgb(0,0,0)\" /><path fill-rule=\"evenodd\" fill-opacity=\"1\" d=\"M 360.0 460.0  L 400.0 460.0  L 400.0 480.0  L 360.0 480.0  L 360.0 460.0 \" stroke-linecap=\"round\" style=\"stroke:rgb(0,0,0);stroke-width:1\" fill=\"rgb(0,0,0)\" />\n",
              "        \n",
              "        \n",
              "        <g id=\"classic\" visibility=\"visible\" transform=\"rotate(-90,390.0,180.0) translate(390.0, 180.0)\">\n",
              "<polygon points=\"-5,-4.5 0,-2.5 5,-4.5 0,4.5\" transform=\"skewX(0) scale(1,1)\" style=\"stroke:rgb(0,0,0);fill:rgb(0,0,0);stroke-width:1\" />\n",
              "</g><g id=\"classic\" visibility=\"visible\" transform=\"rotate(-90,80.0,250.0) translate(80.0, 250.0)\">\n",
              "<polygon points=\"-5,-4.5 0,-2.5 5,-4.5 0,4.5\" transform=\"skewX(0) scale(1,1)\" style=\"stroke:rgb(255,255,100);fill:rgb(255,255,100);stroke-width:1\" />\n",
              "</g><g id=\"classic\" visibility=\"visible\" transform=\"rotate(-90,400.0,160.0) translate(400.0, 160.0)\">\n",
              "<polygon points=\"-5,-4.5 0,-2.5 5,-4.5 0,4.5\" transform=\"skewX(0) scale(1,1)\" style=\"stroke:rgb(140,70,40);fill:rgb(140,70,40);stroke-width:1\" />\n",
              "</g><g id=\"classic\" visibility=\"visible\" transform=\"rotate(-90,360.0,460.0) translate(360.0, 460.0)\">\n",
              "<polygon points=\"-5,-4.5 0,-2.5 5,-4.5 0,4.5\" transform=\"skewX(0) scale(1,1)\" style=\"stroke:rgb(0,0,0);fill:rgb(0,0,0);stroke-width:1\" />\n",
              "</g>\n",
              "      </svg>\n",
              "    "
            ]
          },
          "metadata": {}
        }
      ]
    },
    {
      "cell_type": "code",
      "source": [
        "draw_dict = {\n",
        "    'turtle_1': black,\n",
        "    'turtle_2': yellow,\n",
        "    'turtle_3': brown,\n",
        "    'turtle_4': face\n",
        "}"
      ],
      "metadata": {
        "id": "sULubz2WLkR_"
      },
      "execution_count": null,
      "outputs": []
    },
    {
      "cell_type": "code",
      "source": [
        "for turtle, telem_dict in draw_dict.items(): \n",
        "  print(turtle)\n",
        "for category, data in draw_dict.items():\n",
        "    print(f'category: {category} | data: {data}')"
      ],
      "metadata": {
        "colab": {
          "base_uri": "https://localhost:8080/"
        },
        "id": "pZpSo_A8LyLD",
        "outputId": "089e5ae4-5b3c-4e40-e93d-4ac87c77dcd5"
      },
      "execution_count": null,
      "outputs": [
        {
          "output_type": "stream",
          "name": "stdout",
          "text": [
            "turtle_1\n",
            "turtle_2\n",
            "turtle_3\n",
            "turtle_4\n",
            "category: turtle_1 | data: <ColabTurtlePlus.Turtle.Turtle object at 0x7f941744c940>\n",
            "category: turtle_2 | data: <ColabTurtlePlus.Turtle.Turtle object at 0x7f941744c9d0>\n",
            "category: turtle_3 | data: <ColabTurtlePlus.Turtle.Turtle object at 0x7f941744ca30>\n",
            "category: turtle_4 | data: <ColabTurtlePlus.Turtle.Turtle object at 0x7f941744c6a0>\n"
          ]
        }
      ]
    },
    {
      "cell_type": "code",
      "source": [
        "draw_dict = {\n",
        "    'turtle_black' : black_telem_list,\n",
        "    'turtle_yellow' : yellow_telem_list,\n",
        "    'turtle_brown' : brown_telem_list,\n",
        "    'turtle_face' : face_telem_list\n",
        "}\n",
        "\n",
        "for turtle, data in draw_dict.items():\n",
        "  print(f'turtle_name: {turtle} | data: {data}')"
      ],
      "metadata": {
        "colab": {
          "base_uri": "https://localhost:8080/"
        },
        "id": "ET9C6JKCL0Ra",
        "outputId": "00238cd5-9784-4ed6-e846-8f441fc8ef3b"
      },
      "execution_count": null,
      "outputs": [
        {
          "output_type": "stream",
          "name": "stdout",
          "text": [
            "turtle_name: turtle_black | data: [(-220.0, 170.0), (-220.0, 170.0), (-340.0, 170.0), (-340.0, 170.0), (180.0, 170.0), (180.0, 170.0), (-90.0, 240.0), (-90.0, 240.0), (-10.0, 220.0), (-10.0, 220.0)]\n",
            "turtle_name: turtle_yellow | data: [(-200.0, 150.0), (-200.0, 150.0), (200.0, 150.0), (200.0, 150.0), (-320.0, 150.0), (-320.0, 150.0)]\n",
            "turtle_name: turtle_brown | data: [(-70.0, 220.0), (-70.0, 220.0), (0.0, 240.0), (0.0, 240.0)]\n",
            "turtle_name: turtle_face | data: [(-120.0, 0.0), (-120.0, 0.0), (100.0, 0.0), (100.0, 0.0), (180.0, -20.0), (180.0, -20.0), (-200.0, -20.0), (-200.0, -20.0), (-90.0, 160.0), (-90.0, 160.0), (-20.0, -20.0), (-20.0, -20.0), (0.0, -20.0), (0.0, -20.0), (20.0, -60.0), (20.0, -60.0), (-40.0, -60.0), (-40.0, -60.0)]\n"
          ]
        }
      ]
    },
    {
      "cell_type": "code",
      "source": [
        "import json\n",
        "with open(\"Turtle_Drawing_pompompurin.json\", 'w') as json_obj:\n",
        "  json.dump(draw_dict, json_obj, indent=2)\n",
        "print('file written')"
      ],
      "metadata": {
        "colab": {
          "base_uri": "https://localhost:8080/"
        },
        "id": "mFkQhq3KL8Uy",
        "outputId": "c60646d3-ac10-42aa-cfe0-0aefd7f0469c"
      },
      "execution_count": null,
      "outputs": [
        {
          "output_type": "stream",
          "name": "stdout",
          "text": [
            "file written\n"
          ]
        }
      ]
    },
    {
      "cell_type": "code",
      "source": [
        "screen_obj = Screen()\n",
        "screen_obj.saveSVG('pompompurin.svg', False)\n",
        "print('file written')"
      ],
      "metadata": {
        "colab": {
          "base_uri": "https://localhost:8080/"
        },
        "id": "pwKcTy5GL_3V",
        "outputId": "77d76eaf-cfb1-4073-cb75-0822d152f149"
      },
      "execution_count": null,
      "outputs": [
        {
          "output_type": "stream",
          "name": "stdout",
          "text": [
            "file written\n"
          ]
        }
      ]
    }
  ]
}