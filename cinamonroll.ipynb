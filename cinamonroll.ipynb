{
  "nbformat": 4,
  "nbformat_minor": 0,
  "metadata": {
    "colab": {
      "provenance": [],
      "authorship_tag": "ABX9TyNgaOjXuMYnuWlVduVzg1jK",
      "include_colab_link": true
    },
    "kernelspec": {
      "name": "python3",
      "display_name": "Python 3"
    },
    "language_info": {
      "name": "python"
    }
  },
  "cells": [
    {
      "cell_type": "markdown",
      "metadata": {
        "id": "view-in-github",
        "colab_type": "text"
      },
      "source": [
        "<a href=\"https://colab.research.google.com/github/vacuiiity/Vroberts_coding_final/blob/main/cinamonroll.ipynb\" target=\"_parent\"><img src=\"https://colab.research.google.com/assets/colab-badge.svg\" alt=\"Open In Colab\"/></a>"
      ]
    },
    {
      "cell_type": "code",
      "execution_count": null,
      "metadata": {
        "colab": {
          "base_uri": "https://localhost:8080/"
        },
        "id": "zK5sOIKxQb_x",
        "outputId": "1845a021-c75a-4aa1-f7f0-6babcd66609a"
      },
      "outputs": [
        {
          "output_type": "stream",
          "name": "stdout",
          "text": [
            "Looking in indexes: https://pypi.org/simple, https://us-python.pkg.dev/colab-wheels/public/simple/\n",
            "Requirement already satisfied: ColabTurtlePlus in /usr/local/lib/python3.8/dist-packages (2.0.1)\n"
          ]
        }
      ],
      "source": [
        "!pip install ColabTurtlePlus"
      ]
    },
    {
      "cell_type": "code",
      "source": [
        "from ColabTurtlePlus.Turtle import *\n",
        "clearscreen()\n",
        "setup(800,800)\n",
        "bgcolor(110,120,160)\n",
        "black = Turtle()\n",
        "black.color((0,0,0))\n",
        "white = Turtle()\n",
        "white.color((220,220,220))\n",
        "pink = Turtle()\n",
        "pink.color((220,200,200))\n",
        "face = Turtle()\n",
        "face.color((0,0,0))"
      ],
      "metadata": {
        "colab": {
          "base_uri": "https://localhost:8080/",
          "height": 841
        },
        "id": "xLz2DcuJMK6a",
        "outputId": "9cc913f5-530f-40dd-c7fa-dc7c5103062d"
      },
      "execution_count": null,
      "outputs": [
        {
          "output_type": "display_data",
          "data": {
            "text/plain": [
              "<IPython.core.display.HTML object>"
            ],
            "text/html": [
              "\n",
              "      <svg width=\"800\" height=\"800\">  \n",
              "        <rect width=\"100%\" height=\"100%\" style=\"fill:rgb(110,120,160);stroke:;stroke-width:1\"/>\n",
              "        \n",
              "        \n",
              "        \n",
              "        \n",
              "        \n",
              "        <g id=\"classic\" visibility=\"visible\" transform=\"rotate(-90,400.0,400.0) translate(400.0, 400.0)\">\n",
              "<polygon points=\"-5,-4.5 0,-2.5 5,-4.5 0,4.5\" transform=\"skewX(0) scale(1,1)\" style=\"stroke:rgb(0,0,0);fill:rgb(0,0,0);stroke-width:1\" />\n",
              "</g><g id=\"classic\" visibility=\"visible\" transform=\"rotate(-90,400.0,400.0) translate(400.0, 400.0)\">\n",
              "<polygon points=\"-5,-4.5 0,-2.5 5,-4.5 0,4.5\" transform=\"skewX(0) scale(1,1)\" style=\"stroke:rgb(220,220,220);fill:rgb(220,220,220);stroke-width:1\" />\n",
              "</g><g id=\"classic\" visibility=\"visible\" transform=\"rotate(-90,400.0,400.0) translate(400.0, 400.0)\">\n",
              "<polygon points=\"-5,-4.5 0,-2.5 5,-4.5 0,4.5\" transform=\"skewX(0) scale(1,1)\" style=\"stroke:rgb(220,200,200);fill:rgb(220,200,200);stroke-width:1\" />\n",
              "</g><g id=\"classic\" visibility=\"visible\" transform=\"rotate(-90,400.0,400.0) translate(400.0, 400.0)\">\n",
              "<polygon points=\"-5,-4.5 0,-2.5 5,-4.5 0,4.5\" transform=\"skewX(0) scale(1,1)\" style=\"stroke:rgb(0,0,0);fill:rgb(0,0,0);stroke-width:1\" />\n",
              "</g>\n",
              "      </svg>\n",
              "    "
            ]
          },
          "metadata": {}
        }
      ]
    },
    {
      "cell_type": "code",
      "source": [
        "def draw_square(turtle_obj, side_length):\n",
        "  for i in range(4):\n",
        "    turtle_obj.forward(side_length)\n",
        "    turtle_obj.left(90)"
      ],
      "metadata": {
        "id": "peNVObu8ZrZW"
      },
      "execution_count": null,
      "outputs": []
    },
    {
      "cell_type": "code",
      "source": [
        "black_telem_list = []\n",
        "pink_telem_list = []\n",
        "white_telem_list = []\n",
        "face_telem_list = []\n",
        "\n",
        "black.jumpto(-200,-200)\n",
        "black_telem_list.append((black.xcor(), black.ycor()))\n",
        "black.begin_fill()\n",
        "draw_square(black,300)\n",
        "black_telem_list.append((black.xcor(), black.ycor()))\n",
        "black.end_fill()\n",
        "\n",
        "black.jumpto(-80,-200)\n",
        "black_telem_list.append((black.xcor(), black.ycor()))\n",
        "black.begin_fill()\n",
        "draw_square(black,300)\n",
        "black_telem_list.append((black.xcor(), black.ycor()))\n",
        "black.end_fill()\n",
        "\n",
        "black.jumpto(-300,-40)\n",
        "black_telem_list.append((black.xcor(), black.ycor()))\n",
        "black.begin_fill()\n",
        "draw_square(black,150)\n",
        "black_telem_list.append((black.xcor(), black.ycor()))\n",
        "black.end_fill()\n",
        "\n",
        "black.jumpto(-350,-90)\n",
        "black_telem_list.append((black.xcor(), black.ycor()))\n",
        "black.begin_fill()\n",
        "draw_square(black,150)\n",
        "black_telem_list.append((black.xcor(), black.ycor()))\n",
        "black.end_fill()\n",
        "\n",
        "black.jumpto(-350,-170)\n",
        "black_telem_list.append((black.xcor(), black.ycor()))\n",
        "black.begin_fill()\n",
        "draw_square(black,150)\n",
        "black_telem_list.append((black.xcor(), black.ycor()))\n",
        "black.end_fill()\n",
        "\n",
        "black.jumpto(160,-40)\n",
        "black_telem_list.append((black.xcor(), black.ycor()))\n",
        "black.begin_fill()\n",
        "draw_square(black,150)\n",
        "black_telem_list.append((black.xcor(), black.ycor()))\n",
        "black.end_fill()\n",
        "\n",
        "black.jumpto(210,-90)\n",
        "black_telem_list.append((black.xcor(), black.ycor()))\n",
        "black.begin_fill()\n",
        "draw_square(black,150)\n",
        "black_telem_list.append((black.xcor(), black.ycor()))\n",
        "black.end_fill()\n",
        "\n",
        "black.jumpto(210,-170)\n",
        "black_telem_list.append((black.xcor(), black.ycor()))\n",
        "black.begin_fill()\n",
        "draw_square(black,150)\n",
        "black_telem_list.append((black.xcor(), black.ycor()))\n",
        "black.end_fill()\n",
        "\n",
        "white.jumpto(-180,-180)\n",
        "white_telem_list.append((white.xcor(), white.ycor()))\n",
        "white.begin_fill()\n",
        "draw_square(white,260)\n",
        "white_telem_list.append((white.xcor(), white.ycor()))\n",
        "white.end_fill()\n",
        "\n",
        "white.jumpto(-60,-180)\n",
        "white_telem_list.append((white.xcor(), white.ycor()))\n",
        "white.begin_fill()\n",
        "draw_square(white,260)\n",
        "white_telem_list.append((white.xcor(), white.ycor()))\n",
        "white.end_fill()\n",
        "\n",
        "white.jumpto(-280,-40)\n",
        "white_telem_list.append((white.xcor(), white.ycor()))\n",
        "white.begin_fill()\n",
        "draw_square(white,130)\n",
        "white_telem_list.append((white.xcor(), white.ycor()))\n",
        "white.end_fill()\n",
        "\n",
        "white.jumpto(-330,-90)\n",
        "white_telem_list.append((white.xcor(), white.ycor()))\n",
        "white.begin_fill()\n",
        "draw_square(white,130)\n",
        "white_telem_list.append((white.xcor(), white.ycor()))\n",
        "white.end_fill()\n",
        "\n",
        "white.jumpto(-330,-150)\n",
        "white_telem_list.append((white.xcor(), white.ycor()))\n",
        "white.begin_fill()\n",
        "draw_square(white,130)\n",
        "white_telem_list.append((white.xcor(), white.ycor()))\n",
        "white.end_fill()\n",
        "\n",
        "white.jumpto(160,-40)\n",
        "white_telem_list.append((white.xcor(), white.ycor()))\n",
        "white.begin_fill()\n",
        "draw_square(white,130)\n",
        "white_telem_list.append((white.xcor(), white.ycor()))\n",
        "white.end_fill()\n",
        "\n",
        "white.jumpto(220,-80)\n",
        "white_telem_list.append((white.xcor(), white.ycor()))\n",
        "white.begin_fill()\n",
        "draw_square(white,120)\n",
        "white_telem_list.append((white.xcor(), white.ycor()))\n",
        "white.end_fill()\n",
        "\n",
        "white.jumpto(220,-150)\n",
        "white_telem_list.append((white.xcor(), white.ycor()))\n",
        "white.begin_fill()\n",
        "draw_square(white,120)\n",
        "white_telem_list.append((white.xcor(), white.ycor()))\n",
        "white.end_fill()\n",
        "\n",
        "pink.jumpto(80,-140)\n",
        "pink_telem_list.append((pink.xcor(), pink.ycor()))\n",
        "pink.begin_fill()\n",
        "draw_square(pink,40)\n",
        "pink_telem_list.append((pink.xcor(), pink.ycor()))\n",
        "pink.end_fill()\n",
        "\n",
        "pink.jumpto(120,-140)\n",
        "pink_telem_list.append((pink.xcor(), pink.ycor()))\n",
        "pink.begin_fill()\n",
        "draw_square(pink,40)\n",
        "pink_telem_list.append((pink.xcor(), pink.ycor()))\n",
        "pink.end_fill()\n",
        "\n",
        "pink.jumpto(-110,-140)\n",
        "pink.begin_fill()\n",
        "draw_square(pink,40)\n",
        "pink.end_fill()\n",
        "pink.jumpto(-140,-140)\n",
        "pink.begin_fill()\n",
        "draw_square(pink,40)\n",
        "pink.end_fill()\n",
        "\n",
        "face.jumpto(90,-80)\n",
        "face_telem_list.append((face.xcor(), face.ycor()))\n",
        "face.begin_fill()\n",
        "draw_square(face,20)\n",
        "face_telem_list.append((face.xcor(), face.ycor()))\n",
        "face.end_fill()\n",
        "\n",
        "face.jumpto(90,-60)\n",
        "face_telem_list.append((face.xcor(), face.ycor()))\n",
        "face.begin_fill()\n",
        "draw_square(face,20)\n",
        "face_telem_list.append((face.xcor(), face.ycor()))\n",
        "face.end_fill()\n",
        "\n",
        "face.jumpto(-90,-80)\n",
        "face_telem_list.append((face.xcor(), face.ycor()))\n",
        "face.begin_fill()\n",
        "draw_square(face,20)\n",
        "face_telem_list.append((face.xcor(), face.ycor()))\n",
        "face.end_fill()\n",
        "\n",
        "face.jumpto(-90,-60)\n",
        "face_telem_list.append((face.xcor(), face.ycor()))\n",
        "face.begin_fill()\n",
        "draw_square(face,20)\n",
        "face_telem_list.append((face.xcor(), face.ycor()))\n",
        "face.end_fill()\n",
        "\n",
        "face.jumpto(-20,-120)\n",
        "face_telem_list.append((face.xcor(), face.ycor()))\n",
        "face.begin_fill()\n",
        "draw_square(face,20)\n",
        "face_telem_list.append((face.xcor(), face.ycor()))\n",
        "face.end_fill()\n",
        "\n",
        "face.jumpto(20,-120)\n",
        "face_telem_list.append((face.xcor(), face.ycor()))\n",
        "face.begin_fill()\n",
        "draw_square(face,20)\n",
        "face_telem_list.append((face.xcor(), face.ycor()))\n",
        "face.end_fill()\n",
        "\n",
        "face.jumpto(0,-120)\n",
        "face_telem_list.append((face.xcor(), face.ycor()))\n",
        "face.begin_fill()\n",
        "draw_square(face,20)\n",
        "face_telem_list.append((face.xcor(), face.ycor()))\n",
        "face.end_fill()\n",
        "\n",
        "face.jumpto(0,-100)\n",
        "face_telem_list.append((face.xcor(), face.ycor()))\n",
        "face.begin_fill()\n",
        "draw_square(face,20)\n",
        "face_telem_list.append((face.xcor(), face.ycor()))\n",
        "face.end_fill()"
      ],
      "metadata": {
        "colab": {
          "base_uri": "https://localhost:8080/",
          "height": 841
        },
        "id": "sVXt_X2COkPJ",
        "outputId": "e9294e46-ad0e-4819-bfb8-5660b5eb46ad"
      },
      "execution_count": null,
      "outputs": [
        {
          "output_type": "display_data",
          "data": {
            "text/plain": [
              "<IPython.core.display.HTML object>"
            ],
            "text/html": [
              "\n",
              "      <svg width=\"800\" height=\"800\">  \n",
              "        <rect width=\"100%\" height=\"100%\" style=\"fill:rgb(110,120,160);stroke:;stroke-width:1\"/>\n",
              "        \n",
              "        \n",
              "        <path fill-rule=\"evenodd\" fill-opacity=\"1\" d=\"M 200.0 600.0  L 500.0 600.0  L 500.0 300.0  L 200.0 300.0  L 200.0 600.0 \" stroke-linecap=\"round\" style=\"stroke:rgb(0,0,0);stroke-width:1\" fill=\"rgb(0,0,0)\" /><path fill-rule=\"evenodd\" fill-opacity=\"1\" d=\"M 320.0 600.0  L 620.0 600.0  L 620.0 300.0  L 320.0 300.0  L 320.0 600.0 \" stroke-linecap=\"round\" style=\"stroke:rgb(0,0,0);stroke-width:1\" fill=\"rgb(0,0,0)\" /><path fill-rule=\"evenodd\" fill-opacity=\"1\" d=\"M 100.0 440.0  L 250.0 440.0  L 250.0 290.0  L 100.0 290.0  L 100.0 440.0 \" stroke-linecap=\"round\" style=\"stroke:rgb(0,0,0);stroke-width:1\" fill=\"rgb(0,0,0)\" /><path fill-rule=\"evenodd\" fill-opacity=\"1\" d=\"M 50.0 490.0  L 200.0 490.0  L 200.0 340.0  L 50.0 340.0  L 50.0 490.0 \" stroke-linecap=\"round\" style=\"stroke:rgb(0,0,0);stroke-width:1\" fill=\"rgb(0,0,0)\" /><path fill-rule=\"evenodd\" fill-opacity=\"1\" d=\"M 50.0 570.0  L 200.0 570.0  L 200.0 420.0  L 50.0 420.0  L 50.0 570.0 \" stroke-linecap=\"round\" style=\"stroke:rgb(0,0,0);stroke-width:1\" fill=\"rgb(0,0,0)\" /><path fill-rule=\"evenodd\" fill-opacity=\"1\" d=\"M 560.0 440.0  L 710.0 440.0  L 710.0 290.0  L 560.0 290.0  L 560.0 440.0 \" stroke-linecap=\"round\" style=\"stroke:rgb(0,0,0);stroke-width:1\" fill=\"rgb(0,0,0)\" /><path fill-rule=\"evenodd\" fill-opacity=\"1\" d=\"M 610.0 490.0  L 760.0 490.0  L 760.0 340.0  L 610.0 340.0  L 610.0 490.0 \" stroke-linecap=\"round\" style=\"stroke:rgb(0,0,0);stroke-width:1\" fill=\"rgb(0,0,0)\" /><path fill-rule=\"evenodd\" fill-opacity=\"1\" d=\"M 610.0 570.0  L 760.0 570.0  L 760.0 420.0  L 610.0 420.0  L 610.0 570.0 \" stroke-linecap=\"round\" style=\"stroke:rgb(0,0,0);stroke-width:1\" fill=\"rgb(0,0,0)\" /><path fill-rule=\"evenodd\" fill-opacity=\"1\" d=\"M 220.0 580.0  L 480.0 580.0  L 480.0 320.0  L 220.0 320.0  L 220.0 580.0 \" stroke-linecap=\"round\" style=\"stroke:rgb(220,220,220);stroke-width:1\" fill=\"rgb(220,220,220)\" /><path fill-rule=\"evenodd\" fill-opacity=\"1\" d=\"M 340.0 580.0  L 600.0 580.0  L 600.0 320.0  L 340.0 320.0  L 340.0 580.0 \" stroke-linecap=\"round\" style=\"stroke:rgb(220,220,220);stroke-width:1\" fill=\"rgb(220,220,220)\" /><path fill-rule=\"evenodd\" fill-opacity=\"1\" d=\"M 120.0 440.0  L 250.0 440.0  L 250.0 310.0  L 120.0 310.0  L 120.0 440.0 \" stroke-linecap=\"round\" style=\"stroke:rgb(220,220,220);stroke-width:1\" fill=\"rgb(220,220,220)\" /><path fill-rule=\"evenodd\" fill-opacity=\"1\" d=\"M 70.0 490.0  L 200.0 490.0  L 200.0 360.0  L 70.0 360.0  L 70.0 490.0 \" stroke-linecap=\"round\" style=\"stroke:rgb(220,220,220);stroke-width:1\" fill=\"rgb(220,220,220)\" /><path fill-rule=\"evenodd\" fill-opacity=\"1\" d=\"M 70.0 550.0  L 200.0 550.0  L 200.0 420.0  L 70.0 420.0  L 70.0 550.0 \" stroke-linecap=\"round\" style=\"stroke:rgb(220,220,220);stroke-width:1\" fill=\"rgb(220,220,220)\" /><path fill-rule=\"evenodd\" fill-opacity=\"1\" d=\"M 560.0 440.0  L 690.0 440.0  L 690.0 310.0  L 560.0 310.0  L 560.0 440.0 \" stroke-linecap=\"round\" style=\"stroke:rgb(220,220,220);stroke-width:1\" fill=\"rgb(220,220,220)\" /><path fill-rule=\"evenodd\" fill-opacity=\"1\" d=\"M 620.0 480.0  L 740.0 480.0  L 740.0 360.0  L 620.0 360.0  L 620.0 480.0 \" stroke-linecap=\"round\" style=\"stroke:rgb(220,220,220);stroke-width:1\" fill=\"rgb(220,220,220)\" /><path fill-rule=\"evenodd\" fill-opacity=\"1\" d=\"M 620.0 550.0  L 740.0 550.0  L 740.0 430.0  L 620.0 430.0  L 620.0 550.0 \" stroke-linecap=\"round\" style=\"stroke:rgb(220,220,220);stroke-width:1\" fill=\"rgb(220,220,220)\" /><path fill-rule=\"evenodd\" fill-opacity=\"1\" d=\"M 480.0 540.0  L 520.0 540.0  L 520.0 500.0  L 480.0 500.0  L 480.0 540.0 \" stroke-linecap=\"round\" style=\"stroke:rgb(220,200,200);stroke-width:1\" fill=\"rgb(220,200,200)\" /><path fill-rule=\"evenodd\" fill-opacity=\"1\" d=\"M 520.0 540.0  L 560.0 540.0  L 560.0 500.0  L 520.0 500.0  L 520.0 540.0 \" stroke-linecap=\"round\" style=\"stroke:rgb(220,200,200);stroke-width:1\" fill=\"rgb(220,200,200)\" /><path fill-rule=\"evenodd\" fill-opacity=\"1\" d=\"M 290.0 540.0  L 330.0 540.0  L 330.0 500.0  L 290.0 500.0  L 290.0 540.0 \" stroke-linecap=\"round\" style=\"stroke:rgb(220,200,200);stroke-width:1\" fill=\"rgb(220,200,200)\" /><path fill-rule=\"evenodd\" fill-opacity=\"1\" d=\"M 260.0 540.0  L 300.0 540.0  L 300.0 500.0  L 260.0 500.0  L 260.0 540.0 \" stroke-linecap=\"round\" style=\"stroke:rgb(220,200,200);stroke-width:1\" fill=\"rgb(220,200,200)\" /><path fill-rule=\"evenodd\" fill-opacity=\"1\" d=\"M 490.0 480.0  L 510.0 480.0  L 510.0 460.0  L 490.0 460.0  L 490.0 480.0 \" stroke-linecap=\"round\" style=\"stroke:rgb(0,0,0);stroke-width:1\" fill=\"rgb(0,0,0)\" /><path fill-rule=\"evenodd\" fill-opacity=\"1\" d=\"M 490.0 460.0  L 510.0 460.0  L 510.0 440.0  L 490.0 440.0  L 490.0 460.0 \" stroke-linecap=\"round\" style=\"stroke:rgb(0,0,0);stroke-width:1\" fill=\"rgb(0,0,0)\" /><path fill-rule=\"evenodd\" fill-opacity=\"1\" d=\"M 310.0 480.0  L 330.0 480.0  L 330.0 460.0  L 310.0 460.0  L 310.0 480.0 \" stroke-linecap=\"round\" style=\"stroke:rgb(0,0,0);stroke-width:1\" fill=\"rgb(0,0,0)\" /><path fill-rule=\"evenodd\" fill-opacity=\"1\" d=\"M 310.0 460.0  L 330.0 460.0  L 330.0 440.0  L 310.0 440.0  L 310.0 460.0 \" stroke-linecap=\"round\" style=\"stroke:rgb(0,0,0);stroke-width:1\" fill=\"rgb(0,0,0)\" /><path fill-rule=\"evenodd\" fill-opacity=\"1\" d=\"M 380.0 520.0  L 400.0 520.0  L 400.0 500.0  L 380.0 500.0  L 380.0 520.0 \" stroke-linecap=\"round\" style=\"stroke:rgb(0,0,0);stroke-width:1\" fill=\"rgb(0,0,0)\" /><path fill-rule=\"evenodd\" fill-opacity=\"1\" d=\"M 420.0 520.0  L 440.0 520.0  L 440.0 500.0  L 420.0 500.0  L 420.0 520.0 \" stroke-linecap=\"round\" style=\"stroke:rgb(0,0,0);stroke-width:1\" fill=\"rgb(0,0,0)\" /><path fill-rule=\"evenodd\" fill-opacity=\"1\" d=\"M 400.0 520.0  L 420.0 520.0  L 420.0 500.0  L 400.0 500.0  L 400.0 520.0 \" stroke-linecap=\"round\" style=\"stroke:rgb(0,0,0);stroke-width:1\" fill=\"rgb(0,0,0)\" /><path fill-rule=\"evenodd\" fill-opacity=\"1\" d=\"M 400.0 500.0  L 420.0 500.0  L 420.0 480.0  L 400.0 480.0  L 400.0 500.0 \" stroke-linecap=\"round\" style=\"stroke:rgb(0,0,0);stroke-width:1\" fill=\"rgb(0,0,0)\" />\n",
              "        \n",
              "        \n",
              "        <g id=\"classic\" visibility=\"visible\" transform=\"rotate(-90,610.0,570.0) translate(610.0, 570.0)\">\n",
              "<polygon points=\"-5,-4.5 0,-2.5 5,-4.5 0,4.5\" transform=\"skewX(0) scale(1,1)\" style=\"stroke:rgb(0,0,0);fill:rgb(0,0,0);stroke-width:1\" />\n",
              "</g><g id=\"classic\" visibility=\"visible\" transform=\"rotate(-90,620.0,550.0) translate(620.0, 550.0)\">\n",
              "<polygon points=\"-5,-4.5 0,-2.5 5,-4.5 0,4.5\" transform=\"skewX(0) scale(1,1)\" style=\"stroke:rgb(220,220,220);fill:rgb(220,220,220);stroke-width:1\" />\n",
              "</g><g id=\"classic\" visibility=\"visible\" transform=\"rotate(-90,260.0,540.0) translate(260.0, 540.0)\">\n",
              "<polygon points=\"-5,-4.5 0,-2.5 5,-4.5 0,4.5\" transform=\"skewX(0) scale(1,1)\" style=\"stroke:rgb(220,200,200);fill:rgb(220,200,200);stroke-width:1\" />\n",
              "</g><g id=\"classic\" visibility=\"visible\" transform=\"rotate(-90,400.0,500.0) translate(400.0, 500.0)\">\n",
              "<polygon points=\"-5,-4.5 0,-2.5 5,-4.5 0,4.5\" transform=\"skewX(0) scale(1,1)\" style=\"stroke:rgb(0,0,0);fill:rgb(0,0,0);stroke-width:1\" />\n",
              "</g>\n",
              "      </svg>\n",
              "    "
            ]
          },
          "metadata": {}
        }
      ]
    },
    {
      "cell_type": "code",
      "source": [
        "draw_dict = {\n",
        "    'turtle_1': black,\n",
        "    'turtle_2': pink,\n",
        "    'turtle_3': white,\n",
        "    'turtle_4': face\n",
        "}"
      ],
      "metadata": {
        "id": "UKbHPSo7UCo1"
      },
      "execution_count": null,
      "outputs": []
    },
    {
      "cell_type": "code",
      "source": [
        "for turtle, telem_dict in draw_dict.items(): \n",
        "  print(turtle)\n",
        "for category, data in draw_dict.items():\n",
        "    print(f'category: {category} | data: {data}')"
      ],
      "metadata": {
        "colab": {
          "base_uri": "https://localhost:8080/"
        },
        "id": "cB0pcU00UIt8",
        "outputId": "c89e1c81-6c8e-411b-ac13-46f67f2e974a"
      },
      "execution_count": null,
      "outputs": [
        {
          "output_type": "stream",
          "name": "stdout",
          "text": [
            "turtle_1\n",
            "turtle_2\n",
            "turtle_3\n",
            "turtle_4\n",
            "category: turtle_1 | data: <ColabTurtlePlus.Turtle.Turtle object at 0x7f8225f57310>\n",
            "category: turtle_2 | data: <ColabTurtlePlus.Turtle.Turtle object at 0x7f8225f57760>\n",
            "category: turtle_3 | data: <ColabTurtlePlus.Turtle.Turtle object at 0x7f8225f57910>\n",
            "category: turtle_4 | data: <ColabTurtlePlus.Turtle.Turtle object at 0x7f8225f57490>\n"
          ]
        }
      ]
    },
    {
      "cell_type": "code",
      "source": [
        "draw_dict = {\n",
        "    'turtle_black' : black_telem_list,\n",
        "    'turtle_pink' : pink_telem_list,\n",
        "    'turtle_white' : white_telem_list,\n",
        "    'turtle_face' : face_telem_list\n",
        "}\n",
        "\n",
        "for turtle, data in draw_dict.items():\n",
        "  print(f'turtle_name: {turtle} | data: {data}')"
      ],
      "metadata": {
        "colab": {
          "base_uri": "https://localhost:8080/"
        },
        "id": "0xtuW8IQUL_g",
        "outputId": "93821f48-3e0e-467a-cd0b-db6af2e8dc05"
      },
      "execution_count": null,
      "outputs": [
        {
          "output_type": "stream",
          "name": "stdout",
          "text": [
            "turtle_name: turtle_black | data: [(-200.0, -200.0), (-200.0, -200.0), (-80.0, -200.0), (-80.0, -200.0), (-300.0, -40.0), (-300.0, -40.0), (-350.0, -90.0), (-350.0, -90.0), (-350.0, -170.0), (-350.0, -170.0), (160.0, -40.0), (160.0, -40.0), (210.0, -90.0), (210.0, -90.0), (210.0, -170.0), (210.0, -170.0)]\n",
            "turtle_name: turtle_pink | data: [(80.0, -140.0), (80.0, -140.0), (120.0, -140.0), (120.0, -140.0)]\n",
            "turtle_name: turtle_white | data: [(-180.0, -180.0), (-180.0, -180.0), (-60.0, -180.0), (-60.0, -180.0), (-280.0, -40.0), (-280.0, -40.0), (-330.0, -90.0), (-330.0, -90.0), (-330.0, -150.0), (-330.0, -150.0), (160.0, -40.0), (160.0, -40.0), (220.0, -80.0), (220.0, -80.0), (220.0, -150.0), (220.0, -150.0)]\n",
            "turtle_name: turtle_face | data: [(90.0, -80.0), (90.0, -80.0), (90.0, -60.0), (90.0, -60.0), (-90.0, -80.0), (-90.0, -80.0), (-90.0, -60.0), (-90.0, -60.0), (-20.0, -120.0), (-20.0, -120.0), (20.0, -120.0), (20.0, -120.0), (0.0, -120.0), (0.0, -120.0), (0.0, -100.0), (0.0, -100.0)]\n"
          ]
        }
      ]
    },
    {
      "cell_type": "code",
      "source": [
        "import json\n",
        "with open(\"Turtle_Drawing_cinnamonroll.json\", 'w') as json_obj:\n",
        "  json.dump(draw_dict, json_obj, indent=2)\n",
        "print('file written')"
      ],
      "metadata": {
        "id": "FDrhOYxR3LMl",
        "colab": {
          "base_uri": "https://localhost:8080/"
        },
        "outputId": "0b144b16-248d-49ea-bd2a-dfba833ddbaa"
      },
      "execution_count": null,
      "outputs": [
        {
          "output_type": "stream",
          "name": "stdout",
          "text": [
            "file written\n"
          ]
        }
      ]
    },
    {
      "cell_type": "code",
      "source": [
        "screen_obj = Screen()\n",
        "screen_obj.saveSVG('turtle_cinnamonroll.svg', False)\n",
        "print('file written')"
      ],
      "metadata": {
        "id": "KkUdxxiC3L2v",
        "colab": {
          "base_uri": "https://localhost:8080/"
        },
        "outputId": "fe0ca196-265c-42ac-d530-020fc7574ae0"
      },
      "execution_count": null,
      "outputs": [
        {
          "output_type": "stream",
          "name": "stdout",
          "text": [
            "file written\n"
          ]
        }
      ]
    }
  ]
}