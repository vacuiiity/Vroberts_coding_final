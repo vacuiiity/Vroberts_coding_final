{
  "nbformat": 4,
  "nbformat_minor": 0,
  "metadata": {
    "colab": {
      "provenance": [],
      "authorship_tag": "ABX9TyMF5GuW4kepIRKxx+GvhdIU",
      "include_colab_link": true
    },
    "kernelspec": {
      "name": "python3",
      "display_name": "Python 3"
    },
    "language_info": {
      "name": "python"
    }
  },
  "cells": [
    {
      "cell_type": "markdown",
      "metadata": {
        "id": "view-in-github",
        "colab_type": "text"
      },
      "source": [
        "<a href=\"https://colab.research.google.com/github/vacuiiity/Vroberts_coding_final/blob/main/choco_cat.ipynb\" target=\"_parent\"><img src=\"https://colab.research.google.com/assets/colab-badge.svg\" alt=\"Open In Colab\"/></a>"
      ]
    },
    {
      "cell_type": "code",
      "execution_count": null,
      "metadata": {
        "colab": {
          "base_uri": "https://localhost:8080/"
        },
        "id": "sDtSB3TPIGQt",
        "outputId": "1fa719cc-2e56-4796-bade-cefe94f7d499"
      },
      "outputs": [
        {
          "output_type": "stream",
          "name": "stdout",
          "text": [
            "Looking in indexes: https://pypi.org/simple, https://us-python.pkg.dev/colab-wheels/public/simple/\n",
            "Collecting ColabTurtlePlus\n",
            "  Downloading ColabTurtlePlus-2.0.1-py3-none-any.whl (31 kB)\n",
            "Installing collected packages: ColabTurtlePlus\n",
            "Successfully installed ColabTurtlePlus-2.0.1\n"
          ]
        }
      ],
      "source": [
        "!pip install ColabTurtlePlus"
      ]
    },
    {
      "cell_type": "code",
      "source": [
        "from ColabTurtlePlus.Turtle import *\n",
        "clearscreen()\n",
        "setup(800,800)\n",
        "bgcolor(180,220,80)\n",
        "black = Turtle()\n",
        "black.color((0,0,0))\n",
        "tan = Turtle()\n",
        "tan.color((222,180,140))\n",
        "brown = Turtle()\n",
        "brown.color((140,80, 80))\n",
        "white = Turtle()\n",
        "white.color((250,250,250))\n",
        "face = Turtle()\n",
        "face.color((0,0,0))"
      ],
      "metadata": {
        "colab": {
          "base_uri": "https://localhost:8080/",
          "height": 841
        },
        "id": "p53PYQmQIOQT",
        "outputId": "f578601c-cee8-4e4f-fd7c-5a7198df8f39"
      },
      "execution_count": null,
      "outputs": [
        {
          "output_type": "display_data",
          "data": {
            "text/plain": [
              "<IPython.core.display.HTML object>"
            ],
            "text/html": [
              "\n",
              "      <svg width=\"800\" height=\"800\">  \n",
              "        <rect width=\"100%\" height=\"100%\" style=\"fill:rgb(180,220,80);stroke:;stroke-width:1\"/>\n",
              "        \n",
              "        \n",
              "        \n",
              "        \n",
              "        \n",
              "        <g id=\"classic\" visibility=\"visible\" transform=\"rotate(-90,400.0,400.0) translate(400.0, 400.0)\">\n",
              "<polygon points=\"-5,-4.5 0,-2.5 5,-4.5 0,4.5\" transform=\"skewX(0) scale(1,1)\" style=\"stroke:rgb(0,0,0);fill:rgb(0,0,0);stroke-width:1\" />\n",
              "</g><g id=\"classic\" visibility=\"visible\" transform=\"rotate(-90,400.0,400.0) translate(400.0, 400.0)\">\n",
              "<polygon points=\"-5,-4.5 0,-2.5 5,-4.5 0,4.5\" transform=\"skewX(0) scale(1,1)\" style=\"stroke:rgb(222,180,140);fill:rgb(222,180,140);stroke-width:1\" />\n",
              "</g><g id=\"classic\" visibility=\"visible\" transform=\"rotate(-90,400.0,400.0) translate(400.0, 400.0)\">\n",
              "<polygon points=\"-5,-4.5 0,-2.5 5,-4.5 0,4.5\" transform=\"skewX(0) scale(1,1)\" style=\"stroke:rgb(140,80,80);fill:rgb(140,80,80);stroke-width:1\" />\n",
              "</g><g id=\"classic\" visibility=\"visible\" transform=\"rotate(-90,400.0,400.0) translate(400.0, 400.0)\">\n",
              "<polygon points=\"-5,-4.5 0,-2.5 5,-4.5 0,4.5\" transform=\"skewX(0) scale(1,1)\" style=\"stroke:rgb(250,250,250);fill:rgb(250,250,250);stroke-width:1\" />\n",
              "</g><g id=\"classic\" visibility=\"visible\" transform=\"rotate(-90,400.0,400.0) translate(400.0, 400.0)\">\n",
              "<polygon points=\"-5,-4.5 0,-2.5 5,-4.5 0,4.5\" transform=\"skewX(0) scale(1,1)\" style=\"stroke:rgb(0,0,0);fill:rgb(0,0,0);stroke-width:1\" />\n",
              "</g>\n",
              "      </svg>\n",
              "    "
            ]
          },
          "metadata": {}
        }
      ]
    },
    {
      "cell_type": "code",
      "source": [
        "def draw_square(turtle_obj, side_length):\n",
        "  for i in range(4):\n",
        "    turtle_obj.forward(side_length)\n",
        "    turtle_obj.left(90)"
      ],
      "metadata": {
        "id": "9fleLFVjleoD"
      },
      "execution_count": null,
      "outputs": []
    },
    {
      "cell_type": "code",
      "source": [
        "def draw_rectangle(turtle_obj, side_length1, side_length2):\n",
        "  for i in range(2):\n",
        "    turtle_obj.forward(side_length1)\n",
        "    turtle_obj.right(90)\n",
        "    turtle_obj.forward(side_length2)\n",
        "    turtle_obj.right(90)"
      ],
      "metadata": {
        "id": "EDyvX5OAljZj"
      },
      "execution_count": null,
      "outputs": []
    },
    {
      "cell_type": "code",
      "source": [
        "black_telem_list = []\n",
        "tan_telem_list = []\n",
        "brown_telem_list = []\n",
        "white_telem_list = []\n",
        "face_telem_list = []\n",
        "\n",
        "black.jumpto(-200,150)\n",
        "black_telem_list.append((black.xcor(), black.ycor()))\n",
        "black.begin_fill()\n",
        "draw_rectangle(black,450,380)\n",
        "black_telem_list.append((black.xcor(), black.ycor()))\n",
        "black.end_fill()\n",
        "\n",
        "black.jumpto(-240,80)\n",
        "black_telem_list.append((black.xcor(), black.ycor()))\n",
        "black.begin_fill()\n",
        "draw_rectangle(black,530,280)\n",
        "black_telem_list.append((black.xcor(), black.ycor()))\n",
        "black.end_fill()\n",
        "\n",
        "black.jumpto(-200,120)\n",
        "black_telem_list.append((black.xcor(), black.ycor()))\n",
        "black.begin_fill()\n",
        "draw_square(black,140)\n",
        "black_telem_list.append((black.xcor(), black.ycor()))\n",
        "black.end_fill()\n",
        "\n",
        "black.jumpto(110,120)\n",
        "black_telem_list.append((black.xcor(), black.ycor()))\n",
        "black.begin_fill()\n",
        "draw_square(black,140)\n",
        "black_telem_list.append((black.xcor(), black.ycor()))\n",
        "black.end_fill()\n",
        "\n",
        "black.jumpto(130,230)\n",
        "black_telem_list.append((black.xcor(), black.ycor()))\n",
        "black.begin_fill()\n",
        "draw_square(black,100)\n",
        "black_telem_list.append((black.xcor(), black.ycor()))\n",
        "black.end_fill()\n",
        "\n",
        "black.jumpto(-180,230)\n",
        "black_telem_list.append((black.xcor(), black.ycor()))\n",
        "black.begin_fill()\n",
        "draw_square(black,100)\n",
        "black_telem_list.append((black.xcor(), black.ycor()))\n",
        "black.end_fill()\n",
        "\n",
        "black.jumpto(-360,-60)\n",
        "black_telem_list.append((black.xcor(), black.ycor()))\n",
        "black.begin_fill()\n",
        "draw_rectangle(black,120,20)\n",
        "black_telem_list.append((black.xcor(), black.ycor()))\n",
        "black.end_fill()\n",
        "\n",
        "black.jumpto(-360,-120)\n",
        "black_telem_list.append((black.xcor(), black.ycor()))\n",
        "black.begin_fill()\n",
        "draw_rectangle(black,120,20)\n",
        "black_telem_list.append((black.xcor(), black.ycor()))\n",
        "black.end_fill()\n",
        "\n",
        "black.jumpto(260,-60)\n",
        "black_telem_list.append((black.xcor(), black.ycor()))\n",
        "black.begin_fill()\n",
        "draw_rectangle(black,120,20)\n",
        "black_telem_list.append((black.xcor(), black.ycor()))\n",
        "black.end_fill()\n",
        "\n",
        "black.jumpto(260,-120)\n",
        "black_telem_list.append((black.xcor(), black.ycor()))\n",
        "black.begin_fill()\n",
        "draw_rectangle(black,120,20)\n",
        "black_telem_list.append((black.xcor(), black.ycor()))\n",
        "black.end_fill()\n",
        "black.hideturtle()\n",
        "\n",
        "white.jumpto(-140,-80)\n",
        "white_telem_list.append((white.xcor(), white.ycor()))\n",
        "white.begin_fill()\n",
        "draw_square(white,100)\n",
        "white_telem_list.append((white.xcor(), white.ycor()))\n",
        "white.end_fill()\n",
        "\n",
        "white.jumpto(80,-80)\n",
        "white_telem_list.append((white.xcor(), white.ycor()))\n",
        "white.begin_fill()\n",
        "draw_square(white,100)\n",
        "white_telem_list.append((white.xcor(), white.ycor()))\n",
        "white.end_fill()\n",
        "white.hideturtle()\n",
        "\n",
        "brown.jumpto (0,-120)\n",
        "brown_telem_list.append((brown.xcor(), brown.ycor()))\n",
        "brown.begin_fill()\n",
        "draw_rectangle(brown,40,20)\n",
        "brown_telem_list.append((brown.xcor(), brown.ycor()))\n",
        "brown.end_fill()\n",
        "brown.hideturtle()\n",
        "\n",
        "tan.jumpto(-180,160)\n",
        "tan_telem_list.append((tan.xcor(), tan.ycor()))\n",
        "tan.begin_fill()\n",
        "draw_square(tan,100)\n",
        "tan_telem_list.append((tan.xcor(), tan.ycor()))\n",
        "tan.end_fill()\n",
        "\n",
        "tan.jumpto(130,160)\n",
        "tan.begin_fill()\n",
        "tan_telem_list.append((tan.xcor(), tan.ycor()))\n",
        "draw_square(tan,100)\n",
        "tan_telem_list.append((tan.xcor(), tan.ycor()))\n",
        "tan.end_fill()\n",
        "\n",
        "tan.jumpto(-160,260)\n",
        "tan_telem_list.append((tan.xcor(), tan.ycor()))\n",
        "tan.begin_fill()\n",
        "draw_square(tan,60)\n",
        "tan_telem_list.append((tan.xcor(), tan.ycor()))\n",
        "tan.end_fill()\n",
        "\n",
        "tan.jumpto(150,260)\n",
        "tan_telem_list.append((tan.xcor(), tan.ycor()))\n",
        "tan.begin_fill()\n",
        "draw_square(tan,60)\n",
        "tan_telem_list.append((tan.xcor(), tan.ycor()))\n",
        "tan.end_fill()\n",
        "tan.hideturtle()\n",
        "\n",
        "face.jumpto(-110,-60)\n",
        "face_telem_list.append((face.xcor(), face.ycor()))\n",
        "face.begin_fill()\n",
        "draw_square(face,40)\n",
        "face_telem_list.append((face.xcor(), face.ycor()))\n",
        "face.end_fill()\n",
        "\n",
        "face.jumpto(110,-60)\n",
        "face_telem_list.append((face.xcor(), face.ycor()))\n",
        "face.begin_fill()\n",
        "draw_square(face,40)\n",
        "face_telem_list.append((face.xcor(), face.ycor()))\n",
        "face.end_fill()\n",
        "face.hideturtle()"
      ],
      "metadata": {
        "colab": {
          "base_uri": "https://localhost:8080/",
          "height": 841
        },
        "id": "v62aQZuPllf7",
        "outputId": "bef23516-133a-4249-8a20-5e2321a1aded"
      },
      "execution_count": null,
      "outputs": [
        {
          "output_type": "display_data",
          "data": {
            "text/plain": [
              "<IPython.core.display.HTML object>"
            ],
            "text/html": [
              "\n",
              "      <svg width=\"800\" height=\"800\">  \n",
              "        <rect width=\"100%\" height=\"100%\" style=\"fill:rgb(180,220,80);stroke:;stroke-width:1\"/>\n",
              "        \n",
              "        \n",
              "        <path fill-rule=\"evenodd\" fill-opacity=\"1\" d=\"M 200.0 250.0  L 650.0 250.0  L 650.0 630.0  L 200.0 630.0  L 200.0 250.0 \" stroke-linecap=\"round\" style=\"stroke:rgb(0,0,0);stroke-width:1\" fill=\"rgb(0,0,0)\" /><path fill-rule=\"evenodd\" fill-opacity=\"1\" d=\"M 160.0 320.0  L 690.0 320.0  L 690.0 600.0  L 160.0 600.0  L 160.0 320.0 \" stroke-linecap=\"round\" style=\"stroke:rgb(0,0,0);stroke-width:1\" fill=\"rgb(0,0,0)\" /><path fill-rule=\"evenodd\" fill-opacity=\"1\" d=\"M 200.0 280.0  L 340.0 280.0  L 340.0 140.0  L 200.0 140.0  L 200.0 280.0 \" stroke-linecap=\"round\" style=\"stroke:rgb(0,0,0);stroke-width:1\" fill=\"rgb(0,0,0)\" /><path fill-rule=\"evenodd\" fill-opacity=\"1\" d=\"M 510.0 280.0  L 650.0 280.0  L 650.0 140.0  L 510.0 140.0  L 510.0 280.0 \" stroke-linecap=\"round\" style=\"stroke:rgb(0,0,0);stroke-width:1\" fill=\"rgb(0,0,0)\" /><path fill-rule=\"evenodd\" fill-opacity=\"1\" d=\"M 530.0 170.0  L 630.0 170.0  L 630.0 70.0  L 530.0 70.0  L 530.0 170.0 \" stroke-linecap=\"round\" style=\"stroke:rgb(0,0,0);stroke-width:1\" fill=\"rgb(0,0,0)\" /><path fill-rule=\"evenodd\" fill-opacity=\"1\" d=\"M 220.0 170.0  L 320.0 170.0  L 320.0 70.0  L 220.0 70.0  L 220.0 170.0 \" stroke-linecap=\"round\" style=\"stroke:rgb(0,0,0);stroke-width:1\" fill=\"rgb(0,0,0)\" /><path fill-rule=\"evenodd\" fill-opacity=\"1\" d=\"M 40.0 460.0  L 160.0 460.0  L 160.0 480.0  L 40.0 480.0  L 40.0 460.0 \" stroke-linecap=\"round\" style=\"stroke:rgb(0,0,0);stroke-width:1\" fill=\"rgb(0,0,0)\" /><path fill-rule=\"evenodd\" fill-opacity=\"1\" d=\"M 40.0 520.0  L 160.0 520.0  L 160.0 540.0  L 40.0 540.0  L 40.0 520.0 \" stroke-linecap=\"round\" style=\"stroke:rgb(0,0,0);stroke-width:1\" fill=\"rgb(0,0,0)\" /><path fill-rule=\"evenodd\" fill-opacity=\"1\" d=\"M 660.0 460.0  L 780.0 460.0  L 780.0 480.0  L 660.0 480.0  L 660.0 460.0 \" stroke-linecap=\"round\" style=\"stroke:rgb(0,0,0);stroke-width:1\" fill=\"rgb(0,0,0)\" /><path fill-rule=\"evenodd\" fill-opacity=\"1\" d=\"M 660.0 520.0  L 780.0 520.0  L 780.0 540.0  L 660.0 540.0  L 660.0 520.0 \" stroke-linecap=\"round\" style=\"stroke:rgb(0,0,0);stroke-width:1\" fill=\"rgb(0,0,0)\" /><path fill-rule=\"evenodd\" fill-opacity=\"1\" d=\"M 220.0 240.0  L 320.0 240.0  L 320.0 140.0  L 220.0 140.0  L 220.0 240.0 \" stroke-linecap=\"round\" style=\"stroke:rgb(222,180,140);stroke-width:1\" fill=\"rgb(222,180,140)\" /><path fill-rule=\"evenodd\" fill-opacity=\"1\" d=\"M 530.0 240.0  L 630.0 240.0  L 630.0 140.0  L 530.0 140.0  L 530.0 240.0 \" stroke-linecap=\"round\" style=\"stroke:rgb(222,180,140);stroke-width:1\" fill=\"rgb(222,180,140)\" /><path fill-rule=\"evenodd\" fill-opacity=\"1\" d=\"M 240.0 140.0  L 300.0 140.0  L 300.0 80.0  L 240.0 80.0  L 240.0 140.0 \" stroke-linecap=\"round\" style=\"stroke:rgb(222,180,140);stroke-width:1\" fill=\"rgb(222,180,140)\" /><path fill-rule=\"evenodd\" fill-opacity=\"1\" d=\"M 550.0 140.0  L 610.0 140.0  L 610.0 80.0  L 550.0 80.0  L 550.0 140.0 \" stroke-linecap=\"round\" style=\"stroke:rgb(222,180,140);stroke-width:1\" fill=\"rgb(222,180,140)\" /><path fill-rule=\"evenodd\" fill-opacity=\"1\" d=\"M 400.0 520.0  L 440.0 520.0  L 440.0 540.0  L 400.0 540.0  L 400.0 520.0 \" stroke-linecap=\"round\" style=\"stroke:rgb(140,80,80);stroke-width:1\" fill=\"rgb(140,80,80)\" /><path fill-rule=\"evenodd\" fill-opacity=\"1\" d=\"M 260.0 480.0  L 360.0 480.0  L 360.0 380.0  L 260.0 380.0  L 260.0 480.0 \" stroke-linecap=\"round\" style=\"stroke:rgb(250,250,250);stroke-width:1\" fill=\"rgb(250,250,250)\" /><path fill-rule=\"evenodd\" fill-opacity=\"1\" d=\"M 480.0 480.0  L 580.0 480.0  L 580.0 380.0  L 480.0 380.0  L 480.0 480.0 \" stroke-linecap=\"round\" style=\"stroke:rgb(250,250,250);stroke-width:1\" fill=\"rgb(250,250,250)\" /><path fill-rule=\"evenodd\" fill-opacity=\"1\" d=\"M 290.0 460.0  L 330.0 460.0  L 330.0 420.0  L 290.0 420.0  L 290.0 460.0 \" stroke-linecap=\"round\" style=\"stroke:rgb(0,0,0);stroke-width:1\" fill=\"rgb(0,0,0)\" /><path fill-rule=\"evenodd\" fill-opacity=\"1\" d=\"M 510.0 460.0  L 550.0 460.0  L 550.0 420.0  L 510.0 420.0  L 510.0 460.0 \" stroke-linecap=\"round\" style=\"stroke:rgb(0,0,0);stroke-width:1\" fill=\"rgb(0,0,0)\" />\n",
              "        \n",
              "        \n",
              "        <g id=\"classic\" visibility=\"hidden\" transform=\"rotate(-90,660.0,520.0) translate(660.0, 520.0)\">\n",
              "<polygon points=\"-5,-4.5 0,-2.5 5,-4.5 0,4.5\" transform=\"skewX(0) scale(1,1)\" style=\"stroke:rgb(0,0,0);fill:rgb(0,0,0);stroke-width:1\" />\n",
              "</g><g id=\"classic\" visibility=\"hidden\" transform=\"rotate(-90,550.0,140.0) translate(550.0, 140.0)\">\n",
              "<polygon points=\"-5,-4.5 0,-2.5 5,-4.5 0,4.5\" transform=\"skewX(0) scale(1,1)\" style=\"stroke:rgb(222,180,140);fill:rgb(222,180,140);stroke-width:1\" />\n",
              "</g><g id=\"classic\" visibility=\"hidden\" transform=\"rotate(-90,400.0,520.0) translate(400.0, 520.0)\">\n",
              "<polygon points=\"-5,-4.5 0,-2.5 5,-4.5 0,4.5\" transform=\"skewX(0) scale(1,1)\" style=\"stroke:rgb(140,80,80);fill:rgb(140,80,80);stroke-width:1\" />\n",
              "</g><g id=\"classic\" visibility=\"hidden\" transform=\"rotate(-90,480.0,480.0) translate(480.0, 480.0)\">\n",
              "<polygon points=\"-5,-4.5 0,-2.5 5,-4.5 0,4.5\" transform=\"skewX(0) scale(1,1)\" style=\"stroke:rgb(250,250,250);fill:rgb(250,250,250);stroke-width:1\" />\n",
              "</g><g id=\"classic\" visibility=\"hidden\" transform=\"rotate(-90,510.0,460.0) translate(510.0, 460.0)\">\n",
              "<polygon points=\"-5,-4.5 0,-2.5 5,-4.5 0,4.5\" transform=\"skewX(0) scale(1,1)\" style=\"stroke:rgb(0,0,0);fill:rgb(0,0,0);stroke-width:1\" />\n",
              "</g>\n",
              "      </svg>\n",
              "    "
            ]
          },
          "metadata": {}
        }
      ]
    },
    {
      "cell_type": "markdown",
      "source": [
        "i know I did not finish I just got stuck and can not figure out how to record everything to put in github and save the files as pngs"
      ],
      "metadata": {
        "id": "ejB1fWSMlqYM"
      }
    },
    {
      "cell_type": "code",
      "source": [
        "draw_dict = {\n",
        "    'turtle_1': black,\n",
        "    'turtle_2': tan,\n",
        "    'turtle_3': white,\n",
        "    'turtle_4': brown,\n",
        "    'turtle_5': face\n",
        "}"
      ],
      "metadata": {
        "id": "r9QEHX3M32zn"
      },
      "execution_count": null,
      "outputs": []
    },
    {
      "cell_type": "code",
      "source": [
        "for turtle, telem_dict in draw_dict.items(): \n",
        "  print(turtle)\n",
        "for category, data in draw_dict.items():\n",
        "    print(f'category: {category} | data: {data}')"
      ],
      "metadata": {
        "colab": {
          "base_uri": "https://localhost:8080/"
        },
        "id": "EPVaOEh4cYey",
        "outputId": "9aa5fa0e-814f-48f6-e958-dc760324430d"
      },
      "execution_count": null,
      "outputs": [
        {
          "output_type": "stream",
          "name": "stdout",
          "text": [
            "turtle_1\n",
            "turtle_2\n",
            "turtle_3\n",
            "turtle_4\n",
            "turtle_5\n",
            "category: turtle_1 | data: <ColabTurtlePlus.Turtle.Turtle object at 0x7fa37ce2f130>\n",
            "category: turtle_2 | data: <ColabTurtlePlus.Turtle.Turtle object at 0x7fa37e7b0550>\n",
            "category: turtle_3 | data: <ColabTurtlePlus.Turtle.Turtle object at 0x7fa37e7b0940>\n",
            "category: turtle_4 | data: <ColabTurtlePlus.Turtle.Turtle object at 0x7fa37e7b03d0>\n",
            "category: turtle_5 | data: <ColabTurtlePlus.Turtle.Turtle object at 0x7fa37e7b0c10>\n"
          ]
        }
      ]
    },
    {
      "cell_type": "code",
      "source": [
        "draw_dict = {\n",
        "    'turtle_black' : black_telem_list,\n",
        "    'turtle_tan' : tan_telem_list,\n",
        "    'turtle_white' : white_telem_list,\n",
        "    'turtle_brown' : brown_telem_list,\n",
        "    'turtle_face' : face_telem_list\n",
        "}\n",
        "\n",
        "for turtle, data in draw_dict.items():\n",
        "  print(f'turtle_name: {turtle} | data: {data}')"
      ],
      "metadata": {
        "colab": {
          "base_uri": "https://localhost:8080/"
        },
        "id": "p-Igbz-F54lq",
        "outputId": "cf326ecb-9f87-4946-bf36-1dc98a273820"
      },
      "execution_count": null,
      "outputs": [
        {
          "output_type": "stream",
          "name": "stdout",
          "text": [
            "turtle_name: turtle_black | data: [(-200.0, 150.0), (-200.0, 150.0), (-240.0, 80.0), (-240.0, 80.0), (-200.0, 120.0), (-200.0, 120.0), (110.0, 120.0), (110.0, 120.0), (130.0, 230.0), (130.0, 230.0), (-180.0, 230.0), (-180.0, 230.0), (-360.0, -60.0), (-360.0, -60.0), (-360.0, -120.0), (-360.0, -120.0), (260.0, -60.0), (260.0, -60.0), (260.0, -120.0), (260.0, -120.0)]\n",
            "turtle_name: turtle_tan | data: [(-180.0, 160.0), (-180.0, 160.0), (130.0, 160.0), (130.0, 160.0), (-160.0, 260.0), (-160.0, 260.0), (150.0, 260.0), (150.0, 260.0)]\n",
            "turtle_name: turtle_white | data: [(-140.0, -80.0), (-140.0, -80.0), (80.0, -80.0), (80.0, -80.0)]\n",
            "turtle_name: turtle_brown | data: [(0.0, -120.0), (0.0, -120.0)]\n",
            "turtle_name: turtle_face | data: [(-110.0, -60.0), (-110.0, -60.0), (110.0, -60.0), (110.0, -60.0)]\n"
          ]
        }
      ]
    },
    {
      "cell_type": "code",
      "source": [
        "import json\n",
        "with open(\"Turtle_Drawing_chococat.json\", 'w') as json_obj:\n",
        "  json.dump(draw_dict, json_obj, indent=2)\n",
        "print('file written')"
      ],
      "metadata": {
        "colab": {
          "base_uri": "https://localhost:8080/"
        },
        "id": "Uzoh7okf3jas",
        "outputId": "d317faf5-87dd-4710-e044-99682d1b62f5"
      },
      "execution_count": null,
      "outputs": [
        {
          "output_type": "stream",
          "name": "stdout",
          "text": [
            "file written\n"
          ]
        }
      ]
    },
    {
      "cell_type": "code",
      "source": [
        "screen_obj.saveSVG('chococat.svg', False)\n",
        "print('file written')"
      ],
      "metadata": {
        "colab": {
          "base_uri": "https://localhost:8080/"
        },
        "id": "kopcqyN5AfwX",
        "outputId": "e1b985e5-7588-4304-9405-c94d94bf9b9d"
      },
      "execution_count": null,
      "outputs": [
        {
          "output_type": "stream",
          "name": "stdout",
          "text": [
            "file written\n"
          ]
        }
      ]
    }
  ]
}