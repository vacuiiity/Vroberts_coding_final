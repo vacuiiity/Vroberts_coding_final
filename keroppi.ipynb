{
  "nbformat": 4,
  "nbformat_minor": 0,
  "metadata": {
    "colab": {
      "provenance": [],
      "authorship_tag": "ABX9TyPECmO1vVXuVEf9HXx/MCUB",
      "include_colab_link": true
    },
    "kernelspec": {
      "name": "python3",
      "display_name": "Python 3"
    },
    "language_info": {
      "name": "python"
    }
  },
  "cells": [
    {
      "cell_type": "markdown",
      "metadata": {
        "id": "view-in-github",
        "colab_type": "text"
      },
      "source": [
        "<a href=\"https://colab.research.google.com/github/vacuiiity/Vroberts_coding_final/blob/main/keroppi.ipynb\" target=\"_parent\"><img src=\"https://colab.research.google.com/assets/colab-badge.svg\" alt=\"Open In Colab\"/></a>"
      ]
    },
    {
      "cell_type": "code",
      "execution_count": null,
      "metadata": {
        "colab": {
          "base_uri": "https://localhost:8080/"
        },
        "id": "FBvgKQaC7vtY",
        "outputId": "74956dcb-7365-44f6-db34-655441a6f938"
      },
      "outputs": [
        {
          "output_type": "stream",
          "name": "stdout",
          "text": [
            "Looking in indexes: https://pypi.org/simple, https://us-python.pkg.dev/colab-wheels/public/simple/\n",
            "Requirement already satisfied: ColabTurtlePlus in /usr/local/lib/python3.8/dist-packages (2.0.1)\n"
          ]
        }
      ],
      "source": [
        "!pip install ColabTurtlePlus"
      ]
    },
    {
      "cell_type": "code",
      "source": [
        "from ColabTurtlePlus.Turtle import *\n",
        "clearscreen()\n",
        "setup(800,800)\n",
        "bgcolor(250,150,0)\n",
        "black = Turtle()\n",
        "black.color((0,0,0))\n",
        "green = Turtle()\n",
        "green.color((120,220,0))\n",
        "blush = Turtle()\n",
        "blush.color((245,120, 70))\n",
        "white = Turtle()\n",
        "white.color((250,250,250))\n",
        "face = Turtle()\n",
        "face.color((0,0,0))"
      ],
      "metadata": {
        "colab": {
          "base_uri": "https://localhost:8080/",
          "height": 841
        },
        "id": "0-vmqF28729L",
        "outputId": "76996e5c-6606-486e-bd40-3e29698d6c17"
      },
      "execution_count": null,
      "outputs": [
        {
          "output_type": "display_data",
          "data": {
            "text/plain": [
              "<IPython.core.display.HTML object>"
            ],
            "text/html": [
              "\n",
              "      <svg width=\"800\" height=\"800\">  \n",
              "        <rect width=\"100%\" height=\"100%\" style=\"fill:rgb(250,150,0);stroke:;stroke-width:1\"/>\n",
              "        \n",
              "        \n",
              "        \n",
              "        \n",
              "        \n",
              "        <g id=\"classic\" visibility=\"visible\" transform=\"rotate(-90,400.0,400.0) translate(400.0, 400.0)\">\n",
              "<polygon points=\"-5,-4.5 0,-2.5 5,-4.5 0,4.5\" transform=\"skewX(0) scale(1,1)\" style=\"stroke:rgb(0,0,0);fill:rgb(0,0,0);stroke-width:1\" />\n",
              "</g><g id=\"classic\" visibility=\"visible\" transform=\"rotate(-90,400.0,400.0) translate(400.0, 400.0)\">\n",
              "<polygon points=\"-5,-4.5 0,-2.5 5,-4.5 0,4.5\" transform=\"skewX(0) scale(1,1)\" style=\"stroke:rgb(120,220,0);fill:rgb(120,220,0);stroke-width:1\" />\n",
              "</g><g id=\"classic\" visibility=\"visible\" transform=\"rotate(-90,400.0,400.0) translate(400.0, 400.0)\">\n",
              "<polygon points=\"-5,-4.5 0,-2.5 5,-4.5 0,4.5\" transform=\"skewX(0) scale(1,1)\" style=\"stroke:rgb(245,120,70);fill:rgb(245,120,70);stroke-width:1\" />\n",
              "</g><g id=\"classic\" visibility=\"visible\" transform=\"rotate(-90,400.0,400.0) translate(400.0, 400.0)\">\n",
              "<polygon points=\"-5,-4.5 0,-2.5 5,-4.5 0,4.5\" transform=\"skewX(0) scale(1,1)\" style=\"stroke:rgb(250,250,250);fill:rgb(250,250,250);stroke-width:1\" />\n",
              "</g><g id=\"classic\" visibility=\"visible\" transform=\"rotate(-90,400.0,400.0) translate(400.0, 400.0)\">\n",
              "<polygon points=\"-5,-4.5 0,-2.5 5,-4.5 0,4.5\" transform=\"skewX(0) scale(1,1)\" style=\"stroke:rgb(0,0,0);fill:rgb(0,0,0);stroke-width:1\" />\n",
              "</g>\n",
              "      </svg>\n",
              "    "
            ]
          },
          "metadata": {}
        }
      ]
    },
    {
      "cell_type": "code",
      "source": [
        "def draw_rectangle(turtle_obj, side_length1, side_length2):\n",
        "  for i in range(2):\n",
        "    turtle_obj.forward(side_length1)\n",
        "    turtle_obj.right(90)\n",
        "    turtle_obj.forward(side_length2)\n",
        "    turtle_obj.right(90)"
      ],
      "metadata": {
        "id": "UT1sNT3S77Sw"
      },
      "execution_count": null,
      "outputs": []
    },
    {
      "cell_type": "code",
      "source": [
        "def draw_square(turtle_obj, side_length):\n",
        "  for i in range(4):\n",
        "    turtle_obj.forward(side_length)\n",
        "    turtle_obj.left(90)"
      ],
      "metadata": {
        "id": "ykpRVkmX8CTw"
      },
      "execution_count": null,
      "outputs": []
    },
    {
      "cell_type": "code",
      "source": [
        "black_telem_list = []\n",
        "green_telem_list = []\n",
        "blush_telem_list = []\n",
        "white_telem_list = []\n",
        "face_telem_list = []\n",
        "\n",
        "black.jumpto(-200,150)\n",
        "black_telem_list.append((black.xcor(), black.ycor()))\n",
        "black.begin_fill()\n",
        "draw_rectangle(black,400,300)\n",
        "black_telem_list.append((black.xcor(), black.ycor()))\n",
        "black.end_fill()\n",
        "\n",
        "black.jumpto(-230,120)\n",
        "black_telem_list.append((black.xcor(), black.ycor()))\n",
        "black.begin_fill()\n",
        "draw_square(black,200)\n",
        "black_telem_list.append((black.xcor(), black.ycor()))\n",
        "black.end_fill()\n",
        "\n",
        "black.jumpto(10,120)\n",
        "black_telem_list.append((black.xcor(), black.ycor()))\n",
        "black.begin_fill()\n",
        "draw_square(black,200)\n",
        "black_telem_list.append((black.xcor(), black.ycor()))\n",
        "black.end_fill()\n",
        "\n",
        "black.jumpto(-30,150)\n",
        "black_telem_list.append((black.xcor(), black.ycor()))\n",
        "black.begin_fill()\n",
        "draw_square(black,40)\n",
        "black_telem_list.append((black.xcor(), black.ycor()))\n",
        "black.end_fill()\n",
        "\n",
        "green.jumpto(-180,130)\n",
        "green_telem_list.append((green.xcor(), green.ycor()))\n",
        "green.begin_fill()\n",
        "draw_rectangle(green,360,260)\n",
        "green.end_fill()\n",
        "\n",
        "white.jumpto(-210,140)\n",
        "white_telem_list.append((white.xcor(), white.ycor()))\n",
        "white.begin_fill()\n",
        "draw_square(white,160)\n",
        "white_telem_list.append((white.xcor(), white.ycor()))\n",
        "white.end_fill()\n",
        "\n",
        "white.jumpto(30,140)\n",
        "white_telem_list.append((white.xcor(), white.ycor()))\n",
        "white.begin_fill()\n",
        "draw_square(white,160)\n",
        "white_telem_list.append((white.xcor(), white.ycor()))\n",
        "white.end_fill()\n",
        "\n",
        "white.jumpto(-50,140)\n",
        "white_telem_list.append((white.xcor(), white.ycor()))\n",
        "white.begin_fill()\n",
        "draw_square(white,30)\n",
        "white_telem_list.append((white.xcor(), white.ycor()))\n",
        "white.end_fill()\n",
        "\n",
        "white.jumpto(10,140)\n",
        "white_telem_list.append((white.xcor(), white.ycor()))\n",
        "white.begin_fill()\n",
        "draw_square(white,30)\n",
        "white_telem_list.append((white.xcor(), white.ycor()))\n",
        "white.end_fill()\n",
        "\n",
        "face.jumpto(60,200)\n",
        "face_telem_list.append((face.xcor(), face.ycor()))\n",
        "face.begin_fill()\n",
        "draw_square(face,60)\n",
        "face_telem_list.append((face.xcor(), face.ycor()))\n",
        "face.end_fill()\n",
        "\n",
        "face.jumpto(-160,200)\n",
        "face_telem_list.append((face.xcor(), face.ycor()))\n",
        "face.begin_fill()\n",
        "draw_square(face,60)\n",
        "face_telem_list.append((face.xcor(), face.ycor()))\n",
        "face.end_fill()\n",
        "\n",
        "blush.jumpto(-160,0)\n",
        "blush_telem_list.append((blush.xcor(), blush.ycor()))\n",
        "blush.begin_fill()\n",
        "draw_square(blush,60)\n",
        "blush_telem_list.append((blush.xcor(), blush.ycor()))\n",
        "blush.end_fill()\n",
        "\n",
        "blush.jumpto(80,0)\n",
        "blush_telem_list.append((blush.xcor(), blush.ycor()))\n",
        "blush.begin_fill()\n",
        "draw_square(blush,60)\n",
        "blush_telem_list.append((blush.xcor(), blush.ycor()))\n",
        "blush.end_fill()\n",
        "\n",
        "face.jumpto(-80,-60)\n",
        "face_telem_list.append((face.xcor(), face.ycor()))\n",
        "face.begin_fill()\n",
        "draw_square(face,20)\n",
        "face_telem_list.append((face.xcor(), face.ycor()))\n",
        "face.end_fill()\n",
        "\n",
        "face.jumpto(-60,-80)\n",
        "face_telem_list.append((face.xcor(), face.ycor()))\n",
        "face.begin_fill()\n",
        "draw_square(face,20)\n",
        "face_telem_list.append((face.xcor(), face.ycor()))\n",
        "face.end_fill()\n",
        "\n",
        "face.jumpto(-40,-100)\n",
        "face_telem_list.append((face.xcor(), face.ycor()))\n",
        "face.begin_fill()\n",
        "draw_square(face,20)\n",
        "face_telem_list.append((face.xcor(), face.ycor()))\n",
        "face.end_fill()\n",
        "\n",
        "face.jumpto(-20,-120)\n",
        "face_telem_list.append((face.xcor(), face.ycor()))\n",
        "face.begin_fill()\n",
        "draw_square(face,20)\n",
        "face_telem_list.append((face.xcor(), face.ycor()))\n",
        "face.end_fill()\n",
        "\n",
        "face.jumpto(0,-100)\n",
        "face_telem_list.append((face.xcor(), face.ycor()))\n",
        "face.begin_fill()\n",
        "draw_square(face,20)\n",
        "face_telem_list.append((face.xcor(), face.ycor()))\n",
        "face.end_fill()\n",
        "\n",
        "face.jumpto(20,-80)\n",
        "face_telem_list.append((face.xcor(), face.ycor()))\n",
        "face.begin_fill()\n",
        "draw_square(face,20)\n",
        "face_telem_list.append((face.xcor(), face.ycor()))\n",
        "face.end_fill()\n",
        "\n",
        "face.jumpto(40,-60)\n",
        "face_telem_list.append((face.xcor(), face.ycor()))\n",
        "face.begin_fill()\n",
        "draw_square(face,20)\n",
        "face_telem_list.append((face.xcor(), face.ycor()))\n",
        "face.end_fill()"
      ],
      "metadata": {
        "colab": {
          "base_uri": "https://localhost:8080/",
          "height": 841
        },
        "id": "cjcXyu35-9DR",
        "outputId": "9a507702-7116-4b44-d77b-a3d82ea2d6aa"
      },
      "execution_count": null,
      "outputs": [
        {
          "output_type": "display_data",
          "data": {
            "text/plain": [
              "<IPython.core.display.HTML object>"
            ],
            "text/html": [
              "\n",
              "      <svg width=\"800\" height=\"800\">  \n",
              "        <rect width=\"100%\" height=\"100%\" style=\"fill:rgb(250,150,0);stroke:;stroke-width:1\"/>\n",
              "        \n",
              "        \n",
              "        <path fill-rule=\"evenodd\" fill-opacity=\"1\" d=\"M 200.0 250.0  L 600.0 250.0  L 600.0 550.0  L 200.0 550.0  L 200.0 250.0 \" stroke-linecap=\"round\" style=\"stroke:rgb(0,0,0);stroke-width:1\" fill=\"rgb(0,0,0)\" /><path fill-rule=\"evenodd\" fill-opacity=\"1\" d=\"M 170.0 280.0  L 370.0 280.0  L 370.0 80.0  L 170.0 80.0  L 170.0 280.0 \" stroke-linecap=\"round\" style=\"stroke:rgb(0,0,0);stroke-width:1\" fill=\"rgb(0,0,0)\" /><path fill-rule=\"evenodd\" fill-opacity=\"1\" d=\"M 410.0 280.0  L 610.0 280.0  L 610.0 80.0  L 410.0 80.0  L 410.0 280.0 \" stroke-linecap=\"round\" style=\"stroke:rgb(0,0,0);stroke-width:1\" fill=\"rgb(0,0,0)\" /><path fill-rule=\"evenodd\" fill-opacity=\"1\" d=\"M 370.0 250.0  L 410.0 250.0  L 410.0 210.0  L 370.0 210.0  L 370.0 250.0 \" stroke-linecap=\"round\" style=\"stroke:rgb(0,0,0);stroke-width:1\" fill=\"rgb(0,0,0)\" /><path fill-rule=\"evenodd\" fill-opacity=\"1\" d=\"M 220.0 270.0  L 580.0 270.0  L 580.0 530.0  L 220.0 530.0  L 220.0 270.0 \" stroke-linecap=\"round\" style=\"stroke:rgb(120,220,0);stroke-width:1\" fill=\"rgb(120,220,0)\" /><path fill-rule=\"evenodd\" fill-opacity=\"1\" d=\"M 240.0 400.0  L 300.0 400.0  L 300.0 340.0  L 240.0 340.0  L 240.0 400.0 \" stroke-linecap=\"round\" style=\"stroke:rgb(245,120,70);stroke-width:1\" fill=\"rgb(245,120,70)\" /><path fill-rule=\"evenodd\" fill-opacity=\"1\" d=\"M 480.0 400.0  L 540.0 400.0  L 540.0 340.0  L 480.0 340.0  L 480.0 400.0 \" stroke-linecap=\"round\" style=\"stroke:rgb(245,120,70);stroke-width:1\" fill=\"rgb(245,120,70)\" /><path fill-rule=\"evenodd\" fill-opacity=\"1\" d=\"M 190.0 260.0  L 350.0 260.0  L 350.0 100.0  L 190.0 100.0  L 190.0 260.0 \" stroke-linecap=\"round\" style=\"stroke:rgb(250,250,250);stroke-width:1\" fill=\"rgb(250,250,250)\" /><path fill-rule=\"evenodd\" fill-opacity=\"1\" d=\"M 430.0 260.0  L 590.0 260.0  L 590.0 100.0  L 430.0 100.0  L 430.0 260.0 \" stroke-linecap=\"round\" style=\"stroke:rgb(250,250,250);stroke-width:1\" fill=\"rgb(250,250,250)\" /><path fill-rule=\"evenodd\" fill-opacity=\"1\" d=\"M 350.0 260.0  L 380.0 260.0  L 380.0 230.0  L 350.0 230.0  L 350.0 260.0 \" stroke-linecap=\"round\" style=\"stroke:rgb(250,250,250);stroke-width:1\" fill=\"rgb(250,250,250)\" /><path fill-rule=\"evenodd\" fill-opacity=\"1\" d=\"M 410.0 260.0  L 440.0 260.0  L 440.0 230.0  L 410.0 230.0  L 410.0 260.0 \" stroke-linecap=\"round\" style=\"stroke:rgb(250,250,250);stroke-width:1\" fill=\"rgb(250,250,250)\" /><path fill-rule=\"evenodd\" fill-opacity=\"1\" d=\"M 460.0 200.0  L 520.0 200.0  L 520.0 140.0  L 460.0 140.0  L 460.0 200.0 \" stroke-linecap=\"round\" style=\"stroke:rgb(0,0,0);stroke-width:1\" fill=\"rgb(0,0,0)\" /><path fill-rule=\"evenodd\" fill-opacity=\"1\" d=\"M 240.0 200.0  L 300.0 200.0  L 300.0 140.0  L 240.0 140.0  L 240.0 200.0 \" stroke-linecap=\"round\" style=\"stroke:rgb(0,0,0);stroke-width:1\" fill=\"rgb(0,0,0)\" /><path fill-rule=\"evenodd\" fill-opacity=\"1\" d=\"M 320.0 460.0  L 340.0 460.0  L 340.0 440.0  L 320.0 440.0  L 320.0 460.0 \" stroke-linecap=\"round\" style=\"stroke:rgb(0,0,0);stroke-width:1\" fill=\"rgb(0,0,0)\" /><path fill-rule=\"evenodd\" fill-opacity=\"1\" d=\"M 340.0 480.0  L 360.0 480.0  L 360.0 460.0  L 340.0 460.0  L 340.0 480.0 \" stroke-linecap=\"round\" style=\"stroke:rgb(0,0,0);stroke-width:1\" fill=\"rgb(0,0,0)\" /><path fill-rule=\"evenodd\" fill-opacity=\"1\" d=\"M 360.0 500.0  L 380.0 500.0  L 380.0 480.0  L 360.0 480.0  L 360.0 500.0 \" stroke-linecap=\"round\" style=\"stroke:rgb(0,0,0);stroke-width:1\" fill=\"rgb(0,0,0)\" /><path fill-rule=\"evenodd\" fill-opacity=\"1\" d=\"M 380.0 520.0  L 400.0 520.0  L 400.0 500.0  L 380.0 500.0  L 380.0 520.0 \" stroke-linecap=\"round\" style=\"stroke:rgb(0,0,0);stroke-width:1\" fill=\"rgb(0,0,0)\" /><path fill-rule=\"evenodd\" fill-opacity=\"1\" d=\"M 400.0 500.0  L 420.0 500.0  L 420.0 480.0  L 400.0 480.0  L 400.0 500.0 \" stroke-linecap=\"round\" style=\"stroke:rgb(0,0,0);stroke-width:1\" fill=\"rgb(0,0,0)\" /><path fill-rule=\"evenodd\" fill-opacity=\"1\" d=\"M 420.0 480.0  L 440.0 480.0  L 440.0 460.0  L 420.0 460.0  L 420.0 480.0 \" stroke-linecap=\"round\" style=\"stroke:rgb(0,0,0);stroke-width:1\" fill=\"rgb(0,0,0)\" /><path fill-rule=\"evenodd\" fill-opacity=\"1\" d=\"M 440.0 460.0  L 460.0 460.0  L 460.0 440.0  L 440.0 440.0  L 440.0 460.0 \" stroke-linecap=\"round\" style=\"stroke:rgb(0,0,0);stroke-width:1\" fill=\"rgb(0,0,0)\" />\n",
              "        \n",
              "        \n",
              "        <g id=\"classic\" visibility=\"visible\" transform=\"rotate(-90,370.0,250.0) translate(370.0, 250.0)\">\n",
              "<polygon points=\"-5,-4.5 0,-2.5 5,-4.5 0,4.5\" transform=\"skewX(0) scale(1,1)\" style=\"stroke:rgb(0,0,0);fill:rgb(0,0,0);stroke-width:1\" />\n",
              "</g><g id=\"classic\" visibility=\"visible\" transform=\"rotate(-90,220.0,270.0) translate(220.0, 270.0)\">\n",
              "<polygon points=\"-5,-4.5 0,-2.5 5,-4.5 0,4.5\" transform=\"skewX(0) scale(1,1)\" style=\"stroke:rgb(120,220,0);fill:rgb(120,220,0);stroke-width:1\" />\n",
              "</g><g id=\"classic\" visibility=\"visible\" transform=\"rotate(-90,480.0,400.0) translate(480.0, 400.0)\">\n",
              "<polygon points=\"-5,-4.5 0,-2.5 5,-4.5 0,4.5\" transform=\"skewX(0) scale(1,1)\" style=\"stroke:rgb(245,120,70);fill:rgb(245,120,70);stroke-width:1\" />\n",
              "</g><g id=\"classic\" visibility=\"visible\" transform=\"rotate(-90,410.0,260.0) translate(410.0, 260.0)\">\n",
              "<polygon points=\"-5,-4.5 0,-2.5 5,-4.5 0,4.5\" transform=\"skewX(0) scale(1,1)\" style=\"stroke:rgb(250,250,250);fill:rgb(250,250,250);stroke-width:1\" />\n",
              "</g><g id=\"classic\" visibility=\"visible\" transform=\"rotate(-90,440.0,460.0) translate(440.0, 460.0)\">\n",
              "<polygon points=\"-5,-4.5 0,-2.5 5,-4.5 0,4.5\" transform=\"skewX(0) scale(1,1)\" style=\"stroke:rgb(0,0,0);fill:rgb(0,0,0);stroke-width:1\" />\n",
              "</g>\n",
              "      </svg>\n",
              "    "
            ]
          },
          "metadata": {}
        }
      ]
    },
    {
      "cell_type": "code",
      "source": [
        "draw_dict = {\n",
        "    'turtle_1': black,\n",
        "    'turtle_2': green,\n",
        "    'turtle_3': white,\n",
        "    'turtle_4': blush,\n",
        "    'turtle_5': face\n",
        "}"
      ],
      "metadata": {
        "id": "GYb1KDy2WXks"
      },
      "execution_count": null,
      "outputs": []
    },
    {
      "cell_type": "code",
      "source": [
        "for turtle, telem_dict in draw_dict.items(): \n",
        "  print(turtle)\n",
        "for category, data in draw_dict.items():\n",
        "    print(f'category: {category} | data: {data}')"
      ],
      "metadata": {
        "colab": {
          "base_uri": "https://localhost:8080/"
        },
        "id": "xf5OOqORWhV6",
        "outputId": "59f5c66e-f242-4f15-ed0f-95efd35a3001"
      },
      "execution_count": null,
      "outputs": [
        {
          "output_type": "stream",
          "name": "stdout",
          "text": [
            "turtle_1\n",
            "turtle_2\n",
            "turtle_3\n",
            "turtle_4\n",
            "turtle_5\n",
            "category: turtle_1 | data: <ColabTurtlePlus.Turtle.Turtle object at 0x7f7203e9d3a0>\n",
            "category: turtle_2 | data: <ColabTurtlePlus.Turtle.Turtle object at 0x7f7203e994f0>\n",
            "category: turtle_3 | data: <ColabTurtlePlus.Turtle.Turtle object at 0x7f7203e9d400>\n",
            "category: turtle_4 | data: <ColabTurtlePlus.Turtle.Turtle object at 0x7f7203e9d3d0>\n",
            "category: turtle_5 | data: <ColabTurtlePlus.Turtle.Turtle object at 0x7f7203e9d430>\n"
          ]
        }
      ]
    },
    {
      "cell_type": "code",
      "source": [
        " draw_dict = {\n",
        "    'turtle_black' : black_telem_list,\n",
        "    'turtle_green' : green_telem_list,\n",
        "    'turtle_white' : white_telem_list,\n",
        "    'turtle_blush' : blush_telem_list,\n",
        "    'turtle_face' : face_telem_list\n",
        "}\n",
        "\n",
        "for turtle, data in draw_dict.items():\n",
        "  print(f'turtle_name: {turtle} | data: {data}')"
      ],
      "metadata": {
        "colab": {
          "base_uri": "https://localhost:8080/"
        },
        "id": "tu6gy6xzWjbA",
        "outputId": "0b07a567-3c25-45f9-a5f7-cc8418af796f"
      },
      "execution_count": null,
      "outputs": [
        {
          "output_type": "stream",
          "name": "stdout",
          "text": [
            "turtle_name: turtle_black | data: [(-200.0, 150.0), (-200.0, 150.0), (-230.0, 120.0), (-230.0, 120.0), (10.0, 120.0), (10.0, 120.0), (-30.0, 150.0), (-30.0, 150.0)]\n",
            "turtle_name: turtle_green | data: [(-180.0, 130.0)]\n",
            "turtle_name: turtle_white | data: [(-210.0, 140.0), (-210.0, 140.0), (30.0, 140.0), (30.0, 140.0), (-50.0, 140.0), (-50.0, 140.0), (10.0, 140.0), (10.0, 140.0)]\n",
            "turtle_name: turtle_blush | data: [(-160.0, 0.0), (-160.0, 0.0), (80.0, 0.0), (80.0, 0.0)]\n",
            "turtle_name: turtle_face | data: [(60.0, 200.0), (60.0, 200.0), (-160.0, 200.0), (-160.0, 200.0), (-80.0, -60.0), (-80.0, -60.0), (-60.0, -80.0), (-60.0, -80.0), (-40.0, -100.0), (-40.0, -100.0), (-20.0, -120.0), (-20.0, -120.0), (0.0, -100.0), (0.0, -100.0), (20.0, -80.0), (20.0, -80.0), (40.0, -60.0), (40.0, -60.0)]\n"
          ]
        }
      ]
    },
    {
      "cell_type": "code",
      "source": [
        "import json\n",
        "with open(\"Turtle_Drawing_keroppi.json\", 'w') as json_obj:\n",
        "  json.dump(draw_dict, json_obj, indent=2)\n",
        "print('file written')"
      ],
      "metadata": {
        "colab": {
          "base_uri": "https://localhost:8080/"
        },
        "id": "iCEfU5WiWoom",
        "outputId": "058f670f-1b98-42be-dfc9-21115941018d"
      },
      "execution_count": null,
      "outputs": [
        {
          "output_type": "stream",
          "name": "stdout",
          "text": [
            "file written\n"
          ]
        }
      ]
    },
    {
      "cell_type": "code",
      "source": [
        "screen_obj = Screen()\n",
        "screen_obj.saveSVG('keroppi.svg', False)\n",
        "print('file written')"
      ],
      "metadata": {
        "colab": {
          "base_uri": "https://localhost:8080/"
        },
        "id": "kwuQ7iyEWrBM",
        "outputId": "0cfbc2ad-a401-4d14-bb09-0e3875783ce2"
      },
      "execution_count": null,
      "outputs": [
        {
          "output_type": "stream",
          "name": "stdout",
          "text": [
            "file written\n"
          ]
        }
      ]
    }
  ]
}